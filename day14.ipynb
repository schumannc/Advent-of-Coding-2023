{
 "cells": [
  {
   "cell_type": "code",
   "execution_count": 2,
   "metadata": {},
   "outputs": [
    {
     "data": {
      "text/plain": [
       "[['O', '.', '.', '.', '.', '#', '.', '.', '.', '.'],\n",
       " ['O', '.', 'O', 'O', '#', '.', '.', '.', '.', '#'],\n",
       " ['.', '.', '.', '.', '.', '#', '#', '.', '.', '.'],\n",
       " ['O', 'O', '.', '#', 'O', '.', '.', '.', '.', 'O'],\n",
       " ['.', 'O', '.', '.', '.', '.', '.', 'O', '#', '.'],\n",
       " ['O', '.', '#', '.', '.', 'O', '.', '#', '.', '#'],\n",
       " ['.', '.', 'O', '.', '.', '#', 'O', '.', '.', 'O'],\n",
       " ['.', '.', '.', '.', '.', '.', '.', 'O', '.', '.'],\n",
       " ['#', '.', '.', '.', '.', '#', '#', '#', '.', '.'],\n",
       " ['#', 'O', 'O', '.', '.', '#', '.', '.', '.', '.']]"
      ]
     },
     "execution_count": 2,
     "metadata": {},
     "output_type": "execute_result"
    }
   ],
   "source": [
    "platform = open(\"./data/sample_day14.txt\").read().splitlines()\n",
    "platform = [list(x) for x in platform]\n",
    "platform"
   ]
  },
  {
   "cell_type": "code",
   "execution_count": 31,
   "metadata": {},
   "outputs": [
    {
     "data": {
      "text/plain": [
       "[['O', 'O', 'O', 'O', '.', '#', '.', 'O', '.', '.'],\n",
       " ['O', 'O', '.', '.', '#', '.', '.', '.', '.', '#'],\n",
       " ['O', 'O', '.', '.', 'O', '#', '#', '.', '.', 'O'],\n",
       " ['O', '.', '.', '#', '.', 'O', 'O', '.', '.', '.'],\n",
       " ['.', '.', '.', '.', '.', '.', '.', '.', '#', '.'],\n",
       " ['.', '.', '#', '.', '.', '.', '.', '#', '.', '#'],\n",
       " ['.', '.', 'O', '.', '.', '#', '.', 'O', '.', 'O'],\n",
       " ['.', '.', 'O', '.', '.', '.', '.', '.', '.', '.'],\n",
       " ['#', '.', '.', '.', '.', '#', '#', '#', '.', '.'],\n",
       " ['#', '.', '.', '.', '.', '#', '.', '.', '.', '.']]"
      ]
     },
     "execution_count": 31,
     "metadata": {},
     "output_type": "execute_result"
    }
   ],
   "source": [
    "def tilt(platform):\n",
    "    transpose = list([list(l) for l in zip(*platform)])\n",
    "    new_plat = []\n",
    "    for col in transpose:\n",
    "        chunks = \"\".join(col).split(\"#\")\n",
    "        chunks = [\"\".join(sorted(list(c), reverse=True)) for c in chunks]\n",
    "        new_plat.append(list(\"#\".join(chunks)))\n",
    "    new_plat = list([list(l) for l in zip(*new_plat)])\n",
    "    return new_plat\n",
    "\n",
    "tilt(platform)"
   ]
  },
  {
   "cell_type": "code",
   "execution_count": 10,
   "metadata": {},
   "outputs": [
    {
     "name": "stdout",
     "output_type": "stream",
     "text": [
      "CPU times: user 3 µs, sys: 1e+03 ns, total: 4 µs\n",
      "Wall time: 5.96 µs\n"
     ]
    },
    {
     "data": {
      "text/plain": [
       "136"
      ]
     },
     "execution_count": 10,
     "metadata": {},
     "output_type": "execute_result"
    }
   ],
   "source": [
    "%time\n",
    "def day14_part1(platform):\n",
    "    tplat = tilt(platform)\n",
    "    total = 0\n",
    "    size = len(tplat)\n",
    "    for i, row in enumerate(tplat):\n",
    "        \n",
    "        total += row.count(\"O\") * (size - i)\n",
    "    return total\n",
    "\n",
    "day14_part1(platform)"
   ]
  },
  {
   "cell_type": "code",
   "execution_count": 14,
   "metadata": {},
   "outputs": [
    {
     "data": {
      "text/plain": [
       "(('O', '.', '.', '.', '.', '#', '.', '.', '.', '.'),\n",
       " ('O', '.', 'O', 'O', '#', '.', '.', '.', '.', '#'),\n",
       " ('.', '.', '.', '.', '.', '#', '#', '.', '.', '.'),\n",
       " ('O', 'O', '.', '#', 'O', '.', '.', '.', '.', 'O'),\n",
       " ('.', 'O', '.', '.', '.', '.', '.', 'O', '#', '.'),\n",
       " ('O', '.', '#', '.', '.', 'O', '.', '#', '.', '#'),\n",
       " ('.', '.', 'O', '.', '.', '#', 'O', '.', '.', 'O'),\n",
       " ('.', '.', '.', '.', '.', '.', '.', 'O', '.', '.'),\n",
       " ('#', '.', '.', '.', '.', '#', '#', '#', '.', '.'),\n",
       " ('#', 'O', 'O', '.', '.', '#', '.', '.', '.', '.'))"
      ]
     },
     "execution_count": 14,
     "metadata": {},
     "output_type": "execute_result"
    }
   ],
   "source": [
    "platform = open(\"./data/sample_day14.txt\").read().splitlines()\n",
    "platform = tuple(tuple(x) for x in platform)\n",
    "platform\n"
   ]
  },
  {
   "cell_type": "code",
   "execution_count": 21,
   "metadata": {},
   "outputs": [
    {
     "name": "stdout",
     "output_type": "stream",
     "text": [
      "CPU times: user 3 µs, sys: 1 µs, total: 4 µs\n",
      "Wall time: 5.96 µs\n"
     ]
    },
    {
     "data": {
      "text/plain": [
       "(('.', '.', '.', '.', '.', '#', '.', '.', '.', '.'),\n",
       " ('.', '.', '.', '.', '#', '.', '.', '.', 'O', '#'),\n",
       " ('.', '.', '.', 'O', 'O', '#', '#', '.', '.', '.'),\n",
       " ('.', 'O', 'O', '#', '.', '.', '.', '.', '.', '.'),\n",
       " ('.', '.', '.', '.', '.', 'O', 'O', 'O', '#', '.'),\n",
       " ('.', 'O', '#', '.', '.', '.', 'O', '#', '.', '#'),\n",
       " ('.', '.', '.', '.', 'O', '#', '.', '.', '.', '.'),\n",
       " ('.', '.', '.', '.', '.', '.', 'O', 'O', 'O', 'O'),\n",
       " ('#', '.', '.', '.', 'O', '#', '#', '#', '.', '.'),\n",
       " ('#', '.', '.', 'O', 'O', '#', '.', '.', '.', '.'))"
      ]
     },
     "execution_count": 21,
     "metadata": {},
     "output_type": "execute_result"
    }
   ],
   "source": [
    "%time\n",
    "def tilt(platform):\n",
    "    transpose = tuple([l for l in zip(*platform)])\n",
    "    new_plat = []\n",
    "    for col in transpose:\n",
    "        chunks = \"\".join(col).split(\"#\")\n",
    "        chunks = tuple(\"\".join(sorted(list(c), reverse=True)) for c in chunks)\n",
    "        new_plat.append(tuple(\"#\".join(chunks)))\n",
    "    new_plat = tuple([l for l in zip(*new_plat)])\n",
    "    return new_plat\n",
    "\n",
    "def tilt_cycle(platform):\n",
    "    north = tilt(platform)\n",
    "    west = tilt(tuple(l[::-1] for l in zip(*north)))\n",
    "    south = tilt(tuple(l[::-1] for l in zip(*west)))\n",
    "    east = tilt(tuple(l[::-1] for l in zip(*south)))\n",
    "    return tuple(l[::-1] for l in zip(*east))\n",
    "\n",
    "tilt_cycle(platform)"
   ]
  },
  {
   "cell_type": "code",
   "execution_count": 19,
   "metadata": {},
   "outputs": [
    {
     "name": "stdout",
     "output_type": "stream",
     "text": [
      "Cycle found at 9\n"
     ]
    },
    {
     "data": {
      "text/plain": [
       "69"
      ]
     },
     "execution_count": 19,
     "metadata": {},
     "output_type": "execute_result"
    }
   ],
   "source": [
    "def day14_part2(platform):\n",
    "    seen = {platform}\n",
    "    cycles = [platform]\n",
    "    i = 0\n",
    "    while True:\n",
    "        platform = tilt_cycle(platform)\n",
    "        if platform in seen:\n",
    "            print(\"Cycle found at\", i)\n",
    "            break\n",
    "        i += 1\n",
    "        seen.add(platform)\n",
    "        cycles.append(platform)\n",
    "    \n",
    "    first = cycles.index(platform)\n",
    "    tplat = cycles[(1000000000 - first) % (i - first) + first]\n",
    "    total = 0\n",
    "    size = len(tplat)\n",
    "    for i, row in enumerate(tplat):\n",
    "        total += row.count(\"O\") * (size - i)\n",
    "    return total\n",
    "\n",
    "day14_part2(platform)"
   ]
  },
  {
   "cell_type": "code",
   "execution_count": null,
   "metadata": {},
   "outputs": [],
   "source": []
  },
  {
   "cell_type": "code",
   "execution_count": 20,
   "metadata": {},
   "outputs": [
    {
     "data": {
      "text/plain": [
       "(('O', '.', '.', '.', '.', '#', '.', '.', '.', '.'),\n",
       " ('O', '.', 'O', 'O', '#', '.', '.', '.', '.', '#'),\n",
       " ('.', '.', '.', '.', '.', '#', '#', '.', '.', '.'),\n",
       " ('O', 'O', '.', '#', 'O', '.', '.', '.', '.', 'O'),\n",
       " ('.', 'O', '.', '.', '.', '.', '.', 'O', '#', '.'),\n",
       " ('O', '.', '#', '.', '.', 'O', '.', '#', '.', '#'),\n",
       " ('.', '.', 'O', '.', '.', '#', 'O', '.', '.', 'O'),\n",
       " ('.', '.', '.', '.', '.', '.', '.', 'O', '.', '.'),\n",
       " ('#', '.', '.', '.', '.', '#', '#', '#', '.', '.'),\n",
       " ('#', 'O', 'O', '.', '.', '#', '.', '.', '.', '.'))"
      ]
     },
     "execution_count": 20,
     "metadata": {},
     "output_type": "execute_result"
    }
   ],
   "source": [
    "platform"
   ]
  },
  {
   "cell_type": "code",
   "execution_count": null,
   "metadata": {},
   "outputs": [],
   "source": []
  }
 ],
 "metadata": {
  "kernelspec": {
   "display_name": "base",
   "language": "python",
   "name": "python3"
  },
  "language_info": {
   "codemirror_mode": {
    "name": "ipython",
    "version": 3
   },
   "file_extension": ".py",
   "mimetype": "text/x-python",
   "name": "python",
   "nbconvert_exporter": "python",
   "pygments_lexer": "ipython3",
   "version": "3.10.13"
  }
 },
 "nbformat": 4,
 "nbformat_minor": 2
}
