{
 "cells": [
  {
   "cell_type": "code",
   "execution_count": 1,
   "metadata": {},
   "outputs": [],
   "source": [
    "def load_input(path):\n",
    "    with open(path) as f:\n",
    "        return f.read().splitlines()"
   ]
  },
  {
   "cell_type": "markdown",
   "metadata": {},
   "source": [
    "# Day 1"
   ]
  },
  {
   "cell_type": "code",
   "execution_count": 2,
   "metadata": {},
   "outputs": [
    {
     "data": {
      "text/plain": [
       "['gsjgklneight6zqfz',\n",
       " '7one718onegfqtdbtxfcmd',\n",
       " 'xvtfhkm8c9',\n",
       " '914two8',\n",
       " 'vxzzvdhfqfsix83c1ttvbbstxgdrkfcnmm3']"
      ]
     },
     "execution_count": 2,
     "metadata": {},
     "output_type": "execute_result"
    }
   ],
   "source": [
    "input = load_input('./data/input_day1.txt')\n",
    "input[:5]"
   ]
  },
  {
   "cell_type": "markdown",
   "metadata": {},
   "source": [
    "## Part 1"
   ]
  },
  {
   "cell_type": "code",
   "execution_count": 3,
   "metadata": {},
   "outputs": [
    {
     "data": {
      "text/plain": [
       "55108"
      ]
     },
     "execution_count": 3,
     "metadata": {},
     "output_type": "execute_result"
    }
   ],
   "source": [
    "sample = ['1abc2', 'pqr3stu8vwx', 'a1b2c3d4e5f', 'treb7uchet']\n",
    "expected = [12, 38, 15, 77]\n",
    "\n",
    "def first_digit(code:str) -> str:\n",
    "    for i in code:\n",
    "        if i.isdigit():\n",
    "            return i\n",
    "        \n",
    "def day01_part1(input):\n",
    "    results = []\n",
    "    for code in input:\n",
    "        d1 = first_digit(code)\n",
    "        d2 = first_digit(code[::-1])\n",
    "        value = int(d1+d2)\n",
    "        #print(f'{code} -> {value}')\n",
    "        results.append(value)\n",
    "    return sum(results)\n",
    "\n",
    "\n",
    "assert day01_part1(sample) == sum(expected)\n",
    "\n",
    "day01_part1(input)"
   ]
  },
  {
   "cell_type": "markdown",
   "metadata": {},
   "source": [
    "## Part 2"
   ]
  },
  {
   "cell_type": "code",
   "execution_count": 5,
   "metadata": {},
   "outputs": [
    {
     "name": "stdout",
     "output_type": "stream",
     "text": [
      "[29, 83, 13, 24, 42, 14, 76]\n"
     ]
    },
    {
     "data": {
      "text/plain": [
       "56324"
      ]
     },
     "execution_count": 5,
     "metadata": {},
     "output_type": "execute_result"
    }
   ],
   "source": [
    "sample = ['two1nine', 'eightwothree', 'abcone2threexyz', 'xtwone3four', '4nineeightseven2', 'zoneight234', '7pqrstsixteen']\n",
    "expected = [29, 83, 13, 24, 42, 14, 76]\n",
    "\n",
    "def first_digit(code:str, reversed=False) -> str:\n",
    "    words = ['one', 'two', 'three', 'four', 'five', 'six', 'seven', 'eight', 'nine']\n",
    "    if reversed:\n",
    "        code = code[::-1]\n",
    "        words = [word[::-1] for word in words]\n",
    "    ck = \"\"\n",
    "    for i in code:\n",
    "        ck += i\n",
    "        for j, word in enumerate(words):\n",
    "            if word in ck:\n",
    "                return str(j + 1)\n",
    "        if i.isdigit():\n",
    "            return i\n",
    "\n",
    "def day01_part2(input):\n",
    "    results = []\n",
    "    for code in input:\n",
    "        d1 = first_digit(code)\n",
    "        d2 = first_digit(code, reversed=True)\n",
    "        value = int(d1+d2)\n",
    "        #print(f'{code} -> {value}')\n",
    "        results.append(value)\n",
    "    return sum(results)\n",
    "\n",
    "print(expected)\n",
    "assert day01_part2(sample) == sum(expected)\n",
    "\n",
    "day01_part2(input)"
   ]
  },
  {
   "cell_type": "markdown",
   "metadata": {},
   "source": [
    "# Day 2"
   ]
  },
  {
   "cell_type": "code",
   "execution_count": 8,
   "metadata": {},
   "outputs": [
    {
     "data": {
      "text/plain": [
       "['Game 1: 7 green, 14 red, 5 blue; 8 red, 4 green; 6 green, 18 red, 9 blue',\n",
       " 'Game 2: 3 blue, 15 red, 5 green; 1 blue, 14 red, 5 green; 11 red; 4 green, 1 blue, 3 red; 4 green, 1 blue; 10 red, 1 green',\n",
       " 'Game 3: 11 green, 3 red; 4 green, 15 blue; 14 blue, 2 red, 10 green; 1 red, 3 green, 10 blue',\n",
       " 'Game 4: 1 green, 6 red, 11 blue; 3 blue, 12 red; 1 green, 14 red, 8 blue; 3 blue, 7 red; 8 blue, 5 red; 7 red, 1 green',\n",
       " 'Game 5: 14 green, 3 red, 3 blue; 2 red, 1 green, 1 blue; 8 green, 3 blue, 1 red; 15 green, 8 blue, 1 red']"
      ]
     },
     "execution_count": 8,
     "metadata": {},
     "output_type": "execute_result"
    }
   ],
   "source": [
    "input = load_input('./data/input_day2.txt')\n",
    "input[:5]"
   ]
  },
  {
   "cell_type": "markdown",
   "metadata": {},
   "source": [
    "## Part 1"
   ]
  },
  {
   "cell_type": "code",
   "execution_count": 17,
   "metadata": {},
   "outputs": [
    {
     "data": {
      "text/plain": [
       "2101"
      ]
     },
     "execution_count": 17,
     "metadata": {},
     "output_type": "execute_result"
    }
   ],
   "source": [
    "sample = [\n",
    "    \"Game 1: 3 blue, 4 red; 1 red, 2 green, 6 blue; 2 green\",\n",
    "    \"Game 2: 1 blue, 2 green; 3 green, 4 blue, 1 red; 1 green, 1 blue\",\n",
    "    \"Game 3: 8 green, 6 blue, 20 red; 5 blue, 4 red, 13 green; 5 green, 1 red\",\n",
    "    \"Game 4: 1 green, 3 red, 6 blue; 3 green, 6 red; 3 green, 15 blue, 14 red\",\n",
    "    \"Game 5: 6 red, 1 blue, 3 green; 2 blue, 1 red, 2 green\",\n",
    "]\n",
    "expected = 8\n",
    "\n",
    "def is_valid_game(game: dict[str, int]) -> bool:\n",
    "    limits = {\"red\": 12, \"blue\": 14, \"green\": 13}\n",
    "    for color, count in game.items():\n",
    "        if color == \"game_id\": continue\n",
    "        if count > limits[color]:\n",
    "            return False\n",
    "    return True\n",
    "\n",
    "def parse_game(game: str) -> dict[str, int]:\n",
    "    game = game.split(\":\")\n",
    "    game_id = int(game[0].split(\" \")[1])\n",
    "    rounds = game[1].split(\";\")\n",
    "    data = {'red': 1, 'blue': 1, 'green': 1}\n",
    "    for round in rounds:\n",
    "        cubes = round.split(\",\")\n",
    "        for cube in cubes:\n",
    "            cube = cube.strip()\n",
    "            count, color = cube.split(\" \")\n",
    "            count = int(count)\n",
    "            if count > data[color]:\n",
    "                data[color] = count\n",
    "    return {\n",
    "        'game_id': game_id,\n",
    "        'red': data['red'],\n",
    "        'blue': data['blue'],\n",
    "        'green': data['green']\n",
    "    }\n",
    "\n",
    "def day02_part1(input):\n",
    "    results = []\n",
    "    for game in input:\n",
    "        game = parse_game(game)\n",
    "        #print(game)\n",
    "        if is_valid_game(game):\n",
    "            results.append(game['game_id'])\n",
    "    return sum(results)\n",
    "\n",
    "assert day02_part1(sample) == expected\n",
    "\n",
    "day02_part1(input)"
   ]
  },
  {
   "cell_type": "markdown",
   "metadata": {},
   "source": [
    "## Part 2"
   ]
  },
  {
   "cell_type": "code",
   "execution_count": 21,
   "metadata": {},
   "outputs": [
    {
     "data": {
      "text/plain": [
       "58269"
      ]
     },
     "execution_count": 21,
     "metadata": {},
     "output_type": "execute_result"
    }
   ],
   "source": [
    "expected = 2286\n",
    "\n",
    "def day02_part2(input):\n",
    "    results = []\n",
    "    for game in input:\n",
    "        game = parse_game(game)\n",
    "        power = game['red'] * game['blue'] * game['green']\n",
    "        results.append(power)\n",
    "    return sum(results)\n",
    "\n",
    "assert day02_part2(sample) == expected\n",
    "\n",
    "day02_part2(input)"
   ]
  },
  {
   "cell_type": "markdown",
   "metadata": {},
   "source": [
    "# Day 3\n",
    "\n"
   ]
  },
  {
   "cell_type": "code",
   "execution_count": 22,
   "metadata": {},
   "outputs": [
    {
     "data": {
      "text/plain": [
       "['....573.613.........965............691......892..948.......964........439.375..................320......273...........352.284...............',\n",
       " '.......*.............*.....814...............$....*........../..94......*....=.............103............/..882*...........+...............',\n",
       " '...........328....598.....*........................819...................199........60*132..@....................685..........6.........493.',\n",
       " '777....763...*.........510...614..................................439..............................216......925.......748....*....540.......',\n",
       " '...=...-....710.............../...273.....933.............%...753...=......33......@........213$.....*..408...*......*.......514....*...130.']"
      ]
     },
     "execution_count": 22,
     "metadata": {},
     "output_type": "execute_result"
    }
   ],
   "source": [
    "input = load_input('./data/input_day3.txt')\n",
    "input[:5]"
   ]
  },
  {
   "cell_type": "markdown",
   "metadata": {},
   "source": [
    "## Part 1"
   ]
  },
  {
   "cell_type": "code",
   "execution_count": 86,
   "metadata": {},
   "outputs": [
    {
     "data": {
      "text/plain": [
       "560670"
      ]
     },
     "execution_count": 86,
     "metadata": {},
     "output_type": "execute_result"
    }
   ],
   "source": [
    "sample = [\n",
    "    \"467$.114..\",\n",
    "    \"$/!*......\",\n",
    "    \"..35..633.\",\n",
    "    \".....#....\",\n",
    "    \"617*......\",\n",
    "    \".....+.58.\",\n",
    "    \"..592.....\",\n",
    "    \".......755\",\n",
    "    \"...$..*...\",\n",
    "    \".664..598$\"\n",
    "]\n",
    "\n",
    "expected = 4361\n",
    "\n",
    "def build_schematic_grid(input: list[str]) -> list[list[str]]:\n",
    "    grid = []\n",
    "    for row in input:\n",
    "        grid.append(list(row))\n",
    "    return grid\n",
    "\n",
    "\n",
    "def padding_position(number_position: list[int], size: int) -> list[int]:\n",
    "    padding = [number_position[0] - 1] + number_position +  [number_position[-1] + 1]\n",
    "    return [i for i in padding if i >= 0 and i < size]\n",
    "\n",
    "\n",
    "def check_surrounds(grid: list[list[str]], number_position: list[int], i: int):\n",
    "    row = grid[i]\n",
    "    padding = padding_position(number_position, len(row))\n",
    "    \n",
    "    surrounds = set()\n",
    "    if i > 0:\n",
    "        top_row = grid[i-1]\n",
    "        surrounds |= set([top_row[i] for i in padding])\n",
    "    if i < len(grid)-1:\n",
    "        bottom_row = grid[i+1]\n",
    "        surrounds |= set([bottom_row[i] for i in padding])\n",
    "\n",
    "    left = [row[padding[0]]] if padding[0] != number_position[0] else []\n",
    "    right = [row[padding[-1]]] if padding[-1] != number_position[-1] else []\n",
    "    surrounds |= set(left + right)\n",
    "\n",
    "    return len(surrounds) > 1\n",
    "\n",
    "\n",
    "def day03_part1(input):\n",
    "    grid = build_schematic_grid(input)\n",
    "    results = []\n",
    "    for i, row in enumerate(grid):\n",
    "        number_position = []\n",
    "        sequence_flag = False\n",
    "        for j, cell in enumerate(row):\n",
    "            if cell.isdigit():\n",
    "                sequence_flag = True and j < len(row)-1\n",
    "                number_position.append(j)\n",
    "            else:\n",
    "                sequence_flag = False\n",
    "            \n",
    "            if not sequence_flag and len(number_position) > 0:\n",
    "                number = int(''.join(row[number_position[0]:number_position[-1]+1]))\n",
    "                is_valid_number = check_surrounds(grid, number_position, i)\n",
    "                if is_valid_number:\n",
    "                    results.append(number)\n",
    "                number_position = []\n",
    "    return sum(results)\n",
    "\n",
    "\n",
    "assert day03_part1(sample) == expected\n",
    "\n",
    "day03_part1(input)"
   ]
  },
  {
   "cell_type": "markdown",
   "metadata": {},
   "source": [
    "## Part 2"
   ]
  },
  {
   "cell_type": "code",
   "execution_count": 127,
   "metadata": {},
   "outputs": [
    {
     "data": {
      "text/plain": [
       "91622824"
      ]
     },
     "execution_count": 127,
     "metadata": {},
     "output_type": "execute_result"
    }
   ],
   "source": [
    "from collections import defaultdict\n",
    "\n",
    "sample = [\n",
    "    \"467..114..\",\n",
    "    \"...*......\",\n",
    "    \"..35..633.\",\n",
    "    \".....#....\",\n",
    "    \"617*......\",\n",
    "    \".....+.58.\",\n",
    "    \"..592.....\",\n",
    "    \"......755.\",\n",
    "    \"...*.*....\",\n",
    "    \".664.598..\"\n",
    "]\n",
    "\n",
    "expected = 467835\n",
    "\n",
    "def get_star_coord(grid: list[list[str]], number_position: list[int], i: int):\n",
    "    row = grid[i]\n",
    "    padding = padding_position(number_position, len(row))\n",
    "    \n",
    "    surrounds = []\n",
    "    top = []\n",
    "    bottom = []\n",
    "    if i > 0:\n",
    "        top_row = grid[i-1]\n",
    "        top = [top_row[i] for i in padding]\n",
    "    if i < len(grid)-1:\n",
    "        bottom_row = grid[i+1]\n",
    "        bottom = [bottom_row[i] for i in padding]\n",
    "\n",
    "    left = [row[padding[0]]] if padding[0] != number_position[0] else []\n",
    "    right = [row[padding[-1]]] if padding[-1] != number_position[-1] else []\n",
    "    \n",
    "    coords = []\n",
    "    if \"*\" in top:\n",
    "        t = top.index(\"*\")\n",
    "        coords.append((i-1, padding[t]))\n",
    "    if \"*\" in bottom:\n",
    "        b = bottom.index(\"*\")\n",
    "        coords.append((i+1, padding[b]))\n",
    "    if \"*\" in left:\n",
    "        coords.append((i, padding[0]))\n",
    "    if \"*\" in right:\n",
    "        coords.append((i, padding[-1]))\n",
    "    return coords\n",
    "\n",
    "\n",
    "def day03_part2(input):\n",
    "    grid = build_schematic_grid(input)\n",
    "    gears = defaultdict(list)\n",
    "    for i, row in enumerate(grid):\n",
    "        number_position = []   \n",
    "        sequence_flag = False\n",
    "        for j, cell in enumerate(row):\n",
    "            if cell.isdigit():\n",
    "                sequence_flag = True and j < len(row)-1\n",
    "                number_position.append(j)\n",
    "            else:\n",
    "                sequence_flag = False\n",
    "            \n",
    "            if not sequence_flag and len(number_position) > 0:\n",
    "                number = int(''.join(row[number_position[0]:number_position[-1]+1]))\n",
    "                coords = get_star_coord(grid, number_position, i)\n",
    "                for coord in coords:\n",
    "                    gears[coord].append(number)\n",
    "                number_position = []\n",
    "\n",
    "    results = []\n",
    "    for numbers in gears.values():\n",
    "        if len(numbers) == 2:\n",
    "            results.append(numbers[0] * numbers[1])\n",
    "    \n",
    "    return sum(results)\n",
    "\n",
    "\n",
    "assert day03_part2(sample) == expected\n",
    "\n",
    "day03_part2(input)"
   ]
  },
  {
   "cell_type": "markdown",
   "metadata": {},
   "source": [
    "# Day 4\n",
    "\n"
   ]
  },
  {
   "cell_type": "code",
   "execution_count": 128,
   "metadata": {},
   "outputs": [
    {
     "data": {
      "text/plain": [
       "['Card   1: 79  1  6  9 88 95 84 69 83 97 | 42 95  1  6 71 69 61 99 84 12 32 96  9 82 88 97 53 24 28 65 83 38  8 68 79',\n",
       " 'Card   2: 34 76 23 61 56 74 13 42 18  6 | 18 13 21 64 74 97 34 43 31 23 56 82 76 61 45 69 10 81 48  6  9 30 47 95 42',\n",
       " 'Card   3: 12 88 28 50 46 69 62 95  6 51 | 66 12 62 82  6 46 77 88 36 74 50 54 40 99 89 11 33 78 87 69 75 96  2 21 71',\n",
       " 'Card   4: 50 80 66 43 82 53 35 51 39 48 | 43 82 48 10 91  7 80 66 51 63 84 35 19 44  9 39 72 85 50 53 73  1 26 75 86',\n",
       " 'Card   5: 63 83 42 98 60 47 36 59 93 18 | 53 47 67  5 17 60 92 93 20 84 10 98 39 86 41 16 31 83 42 94 25 82 61 95 44']"
      ]
     },
     "execution_count": 128,
     "metadata": {},
     "output_type": "execute_result"
    }
   ],
   "source": [
    "input = load_input('./data/input_day4.txt')\n",
    "input[:5]"
   ]
  },
  {
   "cell_type": "markdown",
   "metadata": {},
   "source": [
    "## Part 1"
   ]
  },
  {
   "cell_type": "code",
   "execution_count": 143,
   "metadata": {},
   "outputs": [
    {
     "data": {
      "text/plain": [
       "26346"
      ]
     },
     "execution_count": 143,
     "metadata": {},
     "output_type": "execute_result"
    }
   ],
   "source": [
    "import re\n",
    "\n",
    "sample = [\n",
    "        \"Card 1: 41 48 83 86 17 | 83 86  6 31 17  9 48 53\",\n",
    "        \"Card 2: 13 32 20 16 61 | 61 30 68 82 17 32 24 19\",\n",
    "        \"Card 3:  1 21 53 59 44 | 69 82 63 72 16 21 14  1\",\n",
    "        \"Card 4: 41 92 73 84 69 | 59 84 76 51 58  5 54 83\",\n",
    "        \"Card 5: 87 83 26 28 32 | 88 30 70 12 93 22 82 36\",\n",
    "        \"Card 6: 31 18 13 56 72 | 74 77 10 23 35 67 36 11\",\n",
    "]\n",
    "\n",
    "expected = 13\n",
    "\n",
    "def parse_card(card: str) -> tuple[set, set]:\n",
    "    card = card.split(\":\")[1].strip()\n",
    "    winning_numbers, numbers_you_have = card.split(\"|\")\n",
    "    winning_numbers = set([int(i) for i in re.findall(r'\\d+', winning_numbers)])\n",
    "    numbers_you_have = set([int(i) for i in re.findall(r'\\d+', numbers_you_have)])\n",
    "    return (winning_numbers, numbers_you_have)\n",
    "\n",
    "def day04_part1(input):\n",
    "    results = []\n",
    "    for card in input:\n",
    "        winning_numbers, numbers_you_have = parse_card(card)\n",
    "        matches = winning_numbers & numbers_you_have\n",
    "        if len(matches) > 0:\n",
    "            results.append(2**(len(matches)-1))\n",
    "    return sum(results)\n",
    "\n",
    "assert day04_part1(sample) == expected, day04_part1(sample)\n",
    "\n",
    "day04_part1(input)"
   ]
  },
  {
   "cell_type": "markdown",
   "metadata": {},
   "source": [
    "## Part 2"
   ]
  },
  {
   "cell_type": "code",
   "execution_count": 162,
   "metadata": {},
   "outputs": [
    {
     "data": {
      "text/plain": [
       "8467762"
      ]
     },
     "execution_count": 162,
     "metadata": {},
     "output_type": "execute_result"
    }
   ],
   "source": [
    "expected = 30\n",
    "\n",
    "def parse_card(card: str) -> tuple[int, set, set]:\n",
    "    card_id, card = card.split(\":\")\n",
    "    card_id = int(re.match(r\"\\w+\\s+(\\d+)\", card_id).group(1))\n",
    "    winning_numbers, numbers_you_have = card.split(\"|\")\n",
    "    winning_numbers = set([int(i) for i in re.findall(r'\\d+', winning_numbers)])\n",
    "    numbers_you_have = set([int(i) for i in re.findall(r'\\d+', numbers_you_have)])\n",
    "    return (card_id, winning_numbers, numbers_you_have)\n",
    "\n",
    "def process_copies(card_id: int, match: int, copies: list, matches: dict[int, int]) -> list[int]:\n",
    "    for i in range(1, match + 1):\n",
    "        new_card_id = card_id + i\n",
    "        if new_card_id in matches:\n",
    "            copies.append(new_card_id)\n",
    "            copies = process_copies(new_card_id, matches[new_card_id], copies, matches)\n",
    "    return copies\n",
    "\n",
    "def day04_part2(input):\n",
    "    matches = {}\n",
    "    for card in input:\n",
    "        card_id, winning_numbers, numbers_you_have = parse_card(card)\n",
    "        matches[card_id] =  len(winning_numbers & numbers_you_have)\n",
    "    \n",
    "    copies = []\n",
    "    for card_id, match in matches.items():\n",
    "        copies = process_copies(card_id, match, copies, matches)\n",
    "    \n",
    "    return len(copies) + len(matches)\n",
    "\n",
    "assert day04_part2(sample) == expected, day04_part2(sample)\n",
    "\n",
    "day04_part2(input)"
   ]
  },
  {
   "cell_type": "markdown",
   "metadata": {},
   "source": [
    "--- Day 5: If You Give A Seed A Fertilizer ---\n",
    "\n",
    "\n",
    "You take the boat and find the gardener right where you were told he would be: managing a giant \"garden\" that looks more to you like a farm.\n",
    "\n",
    "\"A water source? Island Island is the water source!\" You point out that Snow Island isn't receiving any water.\n",
    "\n",
    "\"Oh, we had to stop the water because we ran out of sand to filter it with! Can't make snow with dirty water. Don't worry, I'm sure we'll get more sand soon; we only turned off the water a few days... weeks... oh no.\" His face sinks into a look of horrified realization.\n",
    "\n",
    "\"I've been so busy making sure everyone here has food that I completely forgot to check why we stopped getting more sand! There's a ferry leaving soon that is headed over in that direction - it's much faster than your boat. Could you please go check it out?\"\n",
    "\n",
    "You barely have time to agree to this request when he brings up another. \"While you wait for the ferry, maybe you can help us with our food production problem. The latest Island Island Almanac just arrived and we're having trouble making sense of it.\"\n",
    "\n",
    "The almanac (your puzzle input) lists all of the seeds that need to be planted. It also lists what type of soil to use with each kind of seed, what type of fertilizer to use with each kind of soil, what type of water to use with each kind of fertilizer, and so on. Every type of seed, soil, fertilizer and so on is identified with a number, but numbers are reused by each category - that is, soil 123 and fertilizer 123 aren't necessarily related to each other.\n",
    "\n",
    "\n",
    "For example:\n",
    "\n",
    "\n",
    "            seeds: 79 14 55 13\n",
    "\n",
    "            seed-to-soil map:\n",
    "            50 98 2\n",
    "            52 50 48\n",
    "\n",
    "            soil-to-fertilizer map:\n",
    "            0 15 37\n",
    "            37 52 2\n",
    "            39 0 15\n",
    "\n",
    "            fertilizer-to-water map:\n",
    "            49 53 8\n",
    "            0 11 42\n",
    "            42 0 7\n",
    "            57 7 4\n",
    "\n",
    "            water-to-light map:\n",
    "            88 18 7\n",
    "            18 25 70\n",
    "\n",
    "            light-to-temperature map:\n",
    "            45 77 23\n",
    "            81 45 19\n",
    "            68 64 13\n",
    "\n",
    "            temperature-to-humidity map:\n",
    "            0 69 1\n",
    "            1 0 69\n",
    "\n",
    "            humidity-to-location map:\n",
    "            60 56 37\n",
    "            56 93 4\n",
    "\n",
    "The almanac starts by listing which seeds need to be planted: seeds 79, 14, 55, and 13.\n",
    "\n",
    "The rest of the almanac contains a list of maps which describe how to convert numbers from a source category into numbers in a destination category. That is, the section that starts with seed-to-soil map: describes how to convert a seed number (the source) to a soil number (the destination). This lets the gardener and his team know which soil to use with which seeds, which water to use with which fertilizer, and so on.\n",
    "\n",
    "Rather than list every source number and its corresponding destination number one by one, the maps describe entire ranges of numbers that can be converted. Each line within a map contains three numbers: the destination range start, the source range start, and the range length.\n",
    "\n",
    "Consider again the example seed-to-soil map:\n",
    "\n",
    "        50 98 2\n",
    "        52 50 48\n",
    "The first line has a destination range start of 50, a source range start of 98, and a range length of 2. This line means that the source range starts at 98 and contains two values: 98 and 99. The destination range is the same length, but it starts at 50, so its two values are 50 and 51. With this information, you know that seed number 98 corresponds to soil number 50 and that seed number 99 corresponds to soil number 51.\n",
    "\n",
    "The second line means that the source range starts at 50 and contains 48 values: 50, 51, ..., 96, 97. This corresponds to a destination range starting at 52 and also containing 48 values: 52, 53, ..., 98, 99. So, seed number 53 corresponds to soil number 55.\n",
    "\n",
    "Any source numbers that aren't mapped correspond to the same destination number. So, seed number 10 corresponds to soil number 10.\n",
    "\n",
    "So, the entire list of seed numbers and their corresponding soil numbers looks like this:\n",
    "\n",
    "        seed  soil\n",
    "        0     0\n",
    "        1     1\n",
    "        ...   ...\n",
    "        48    48\n",
    "        49    49\n",
    "        50    52\n",
    "        51    53\n",
    "        ...   ...\n",
    "        96    98\n",
    "        97    99\n",
    "        98    50\n",
    "        99    51\n",
    "With this map, you can look up the soil number required for each initial seed number:\n",
    "\n",
    "        Seed number 79 corresponds to soil number 81.\n",
    "        Seed number 14 corresponds to soil number 14.\n",
    "        Seed number 55 corresponds to soil number 57.\n",
    "        Seed number 13 corresponds to soil number 13.\n",
    "\n",
    "The gardener and his team want to get started as soon as possible, so they'd like to know the closest location that needs a seed. Using these maps, find the lowest location number that corresponds to any of the initial seeds. To do this, you'll need to convert each seed number through other categories until you can find its corresponding location number. In this example, the corresponding types are:\n",
    "\n",
    "        Seed 79, soil 81, fertilizer 81, water 81, light 74, temperature 78, humidity 78, location 82.\n",
    "        Seed 14, soil 14, fertilizer 53, water 49, light 42, temperature 42, humidity 43, location 43.\n",
    "        Seed 55, soil 57, fertilizer 57, water 53, light 46, temperature 82, humidity 82, location 86.\n",
    "        Seed 13, soil 13, fertilizer 52, water 41, light 34, temperature 34, humidity 35, location 35.\n",
    "        So, the lowest location number in this example is 35.\n",
    "\n",
    "What is the lowest location number that corresponds to any of the initial seed numbers?"
   ]
  },
  {
   "cell_type": "code",
   "execution_count": 2,
   "metadata": {},
   "outputs": [
    {
     "data": {
      "text/plain": [
       "['seeds: 763445965 78570222 1693788857 146680070 1157620425 535920936 3187993807 180072493 1047354752 20193861 2130924847 274042257 20816377 596708258 950268560 11451287 3503767450 182465951 3760349291 265669041',\n",
       " '',\n",
       " 'seed-to-soil map:',\n",
       " '0 1894195346 315486903',\n",
       " '1184603419 2977305241 40929361']"
      ]
     },
     "execution_count": 2,
     "metadata": {},
     "output_type": "execute_result"
    }
   ],
   "source": [
    "input = load_input('./data/input_day5.txt')\n",
    "input[:5]   "
   ]
  },
  {
   "cell_type": "code",
   "execution_count": 3,
   "metadata": {},
   "outputs": [
    {
     "data": {
      "text/plain": [
       "['seeds: 79 14 55 13',\n",
       " '',\n",
       " 'seed-to-soil map:',\n",
       " '50 98 2',\n",
       " '52 50 48',\n",
       " '',\n",
       " 'soil-to-fertilizer map:',\n",
       " '0 15 37',\n",
       " '37 52 2',\n",
       " '39 0 15',\n",
       " '',\n",
       " 'fertilizer-to-water map:',\n",
       " '49 53 8',\n",
       " '0 11 42',\n",
       " '42 0 7',\n",
       " '57 7 4',\n",
       " '',\n",
       " 'water-to-light map:',\n",
       " '88 18 7',\n",
       " '18 25 70',\n",
       " '',\n",
       " 'light-to-temperature map:',\n",
       " '45 77 23',\n",
       " '81 45 19',\n",
       " '68 64 13',\n",
       " '',\n",
       " 'temperature-to-humidity map:',\n",
       " '0 69 1',\n",
       " '1 0 69',\n",
       " '',\n",
       " 'humidity-to-location map:',\n",
       " '60 56 37',\n",
       " '56 93 4']"
      ]
     },
     "execution_count": 3,
     "metadata": {},
     "output_type": "execute_result"
    }
   ],
   "source": [
    "sample = load_input('./data/sample_day5.txt')\n",
    "sample"
   ]
  },
  {
   "cell_type": "code",
   "execution_count": 4,
   "metadata": {},
   "outputs": [
    {
     "data": {
      "text/plain": [
       "265018614"
      ]
     },
     "execution_count": 4,
     "metadata": {},
     "output_type": "execute_result"
    }
   ],
   "source": [
    "import re\n",
    "from collections import defaultdict\n",
    "from functools import partial\n",
    "\n",
    "def parse_seeds(seed: str) -> list[int]:\n",
    "    return [int(i) for i in re.findall(r'\\d+', seed)]\n",
    "\n",
    "\n",
    "def parse_ranges(line: str) -> dict[int, int]:\n",
    "    destination, source, range_ = map(int, line.split(\" \"))\n",
    "    return partial(range_function, source=source, destination=destination, range_=range_)\n",
    "\n",
    "#53 38/49\n",
    "#49 53 8\n",
    "def range_function(input: int, source: int, destination:int, range_:int) -> int:\n",
    "    if input >= source and input < (source + range_):\n",
    "        return destination + input - source\n",
    "    return input\n",
    "\n",
    "\n",
    "def parse_maps(maps: list[str]) -> dict[str, dict[int, int]]:\n",
    "    almanac = defaultdict(list)\n",
    "    map_key = None\n",
    "    for line in maps:\n",
    "        if 'map' in line:\n",
    "            map_key = line.replace(\"map:\", \"\").strip()\n",
    "        elif line != \"\":\n",
    "            almanac[map_key].append(parse_ranges(line))\n",
    "    return almanac\n",
    "\n",
    "\n",
    "def curry(input: int, functions: list[partial]) -> int:\n",
    "    for function in functions:\n",
    "        output = function(input)\n",
    "        if input != output:\n",
    "            return output\n",
    "    return input\n",
    "\n",
    "\n",
    "def day05_part1(input):\n",
    "    seeds = parse_seeds(input[0])\n",
    "    almanac = parse_maps(input[2:])\n",
    "    locations = []\n",
    "    for seed in seeds:\n",
    "        #print(\"Seed\", seed, end=\", \")\n",
    "        soil = curry(seed, almanac[\"seed-to-soil\"])\n",
    "        #print(\"soil\", soil, end=\", \")\n",
    "        fertilizer = curry(soil, almanac[\"soil-to-fertilizer\"])\n",
    "        #print(\"fertilizer\", fertilizer, end=\", \")\n",
    "        water = curry(fertilizer, almanac[\"fertilizer-to-water\"])\n",
    "        #print(\"water\", water, end=\", \")\n",
    "        light = curry(water, almanac[\"water-to-light\"])\n",
    "        #print(\"light\", light, end=\", \")\n",
    "        temperature = curry(light, almanac[\"light-to-temperature\"])\n",
    "        #print(\"temperature\", temperature, end=\", \")\n",
    "        humidity = curry(temperature, almanac[\"temperature-to-humidity\"])\n",
    "        #print(\"humidity\", humidity, end=\", \")\n",
    "        location = curry(humidity, almanac[\"humidity-to-location\"])\n",
    "        #print(\"location\", location)\n",
    "        locations.append(location)\n",
    "    return min(locations)\n",
    "\n",
    "\n",
    "assert day05_part1(sample) == 35, day05_part1(sample)\n",
    "\n",
    "day05_part1(input)"
   ]
  },
  {
   "cell_type": "markdown",
   "metadata": {},
   "source": [
    "--- Part Two ---\n",
    "\n",
    "\n",
    "Everyone will starve if you only plant such a small number of seeds. Re-reading the almanac, it looks like the seeds: line actually describes ranges of seed numbers.\n",
    "\n",
    "The values on the initial seeds: line come in pairs. Within each pair, the first value is the start of the range and the second value is the length of the range. So, in the first line of the example above:\n",
    "\n",
    "seeds: 79 14 55 13\n",
    "This line describes two ranges of seed numbers to be planted in the garden. The first range starts with seed number 79 and contains 14 values: 79, 80, ..., 91, 92. The second range starts with seed number 55 and contains 13 values: 55, 56, ..., 66, 67.\n",
    "\n",
    "Now, rather than considering four seed numbers, you need to consider a total of 27 seed numbers.\n",
    "\n",
    "In the above example, the lowest location number can be obtained from seed number 82, which corresponds to soil 84, fertilizer 84, water 84, light 77, temperature 45, humidity 46, and location 46. So, the lowest location number is 46.\n",
    "\n",
    "Consider all of the initial seed numbers listed in the ranges on the first line of the almanac. What is the lowest location number that corresponds to any of the initial seed numbers?"
   ]
  },
  {
   "cell_type": "code",
   "execution_count": 29,
   "metadata": {},
   "outputs": [
    {
     "name": "stdout",
     "output_type": "stream",
     "text": [
      "Seed 79, soil 81, fertilizer 81, water 81, light 74, temperature 78, humidity 78, location 82\n",
      "Seed 80, soil 82, fertilizer 82, water 82, light 75, temperature 79, humidity 79, location 83\n",
      "Seed 81, soil 83, fertilizer 83, water 83, light 76, temperature 80, humidity 80, location 84\n",
      "Seed 82, soil 84, fertilizer 84, water 84, light 77, temperature 45, humidity 46, location 46\n",
      "Seed 83, soil 85, fertilizer 85, water 85, light 78, temperature 46, humidity 47, location 47\n",
      "Seed 84, soil 86, fertilizer 86, water 86, light 79, temperature 47, humidity 48, location 48\n",
      "Seed 85, soil 87, fertilizer 87, water 87, light 80, temperature 48, humidity 49, location 49\n",
      "Seed 86, soil 88, fertilizer 88, water 88, light 81, temperature 49, humidity 50, location 50\n",
      "Seed 87, soil 89, fertilizer 89, water 89, light 82, temperature 50, humidity 51, location 51\n",
      "Seed 88, soil 90, fertilizer 90, water 90, light 83, temperature 51, humidity 52, location 52\n",
      "Seed 89, soil 91, fertilizer 91, water 91, light 84, temperature 52, humidity 53, location 53\n",
      "Seed 90, soil 92, fertilizer 92, water 92, light 85, temperature 53, humidity 54, location 54\n",
      "Seed 91, soil 93, fertilizer 93, water 93, light 86, temperature 54, humidity 55, location 55\n",
      "Seed 92, soil 94, fertilizer 94, water 94, light 87, temperature 55, humidity 56, location 60\n",
      "Seed 93, soil 95, fertilizer 95, water 95, light 95, temperature 63, humidity 64, location 68\n",
      "Seed 55, soil 57, fertilizer 57, water 53, light 46, temperature 82, humidity 82, location 86\n",
      "Seed 56, soil 58, fertilizer 58, water 54, light 47, temperature 83, humidity 83, location 87\n",
      "Seed 57, soil 59, fertilizer 59, water 55, light 48, temperature 84, humidity 84, location 88\n",
      "Seed 58, soil 60, fertilizer 60, water 56, light 49, temperature 85, humidity 85, location 89\n",
      "Seed 59, soil 61, fertilizer 61, water 61, light 54, temperature 90, humidity 90, location 94\n",
      "Seed 60, soil 62, fertilizer 62, water 62, light 55, temperature 91, humidity 91, location 95\n",
      "Seed 61, soil 63, fertilizer 63, water 63, light 56, temperature 92, humidity 92, location 96\n",
      "Seed 62, soil 64, fertilizer 64, water 64, light 57, temperature 93, humidity 93, location 56\n",
      "Seed 63, soil 65, fertilizer 65, water 65, light 58, temperature 94, humidity 94, location 57\n",
      "Seed 64, soil 66, fertilizer 66, water 66, light 59, temperature 95, humidity 95, location 58\n",
      "Seed 65, soil 67, fertilizer 67, water 67, light 60, temperature 96, humidity 96, location 59\n",
      "Seed 66, soil 68, fertilizer 68, water 68, light 61, temperature 97, humidity 97, location 97\n",
      "Seed 67, soil 69, fertilizer 69, water 69, light 62, temperature 98, humidity 98, location 98\n",
      "Seed 68, soil 70, fertilizer 70, water 70, light 63, temperature 99, humidity 99, location 99\n"
     ]
    },
    {
     "data": {
      "text/plain": [
       "46"
      ]
     },
     "execution_count": 29,
     "metadata": {},
     "output_type": "execute_result"
    }
   ],
   "source": [
    "import re\n",
    "from collections import defaultdict\n",
    "from functools import partial\n",
    "\n",
    "def parse_seeds(seed: str) -> list[int]:\n",
    "    return [int(i) for i in re.findall(r'\\d+', seed)]\n",
    "\n",
    "\n",
    "def parse_ranges(line: str) -> dict[int, int]:\n",
    "    destination, source, range_ = map(int, line.split(\" \"))\n",
    "    return partial(range_function, source=source, destination=destination, range_=range_)\n",
    "\n",
    "#53 38/49\n",
    "#49 53 8\n",
    "def range_function(input: int, source: int, destination:int, range_:int) -> int:\n",
    "    if input >= source and input < (source + range_):\n",
    "        return destination + input - source\n",
    "    return input\n",
    "\n",
    "\n",
    "def parse_maps(maps: list[str]) -> dict[str, dict[int, int]]:\n",
    "    almanac = defaultdict(list)\n",
    "    map_key = None\n",
    "    for line in maps:\n",
    "        if 'map' in line:\n",
    "            map_key = line.replace(\"map:\", \"\").strip()\n",
    "        elif line != \"\":\n",
    "            almanac[map_key].append(parse_ranges(line))\n",
    "    return almanac\n",
    "\n",
    "\n",
    "def curry(input: int, functions: list[partial]) -> int:\n",
    "    for function in functions:\n",
    "        output = function(input)\n",
    "        if input != output:\n",
    "            return output\n",
    "    return input\n",
    "\n",
    "\n",
    "def day05_part1(input):\n",
    "    seeds = parse_seeds(input[0])\n",
    "    almanac = parse_maps(input[2:])\n",
    "    locations = []\n",
    "    for i in range(0, len(seeds), 2):\n",
    "        seed = (seeds[i], seeds[i+1])\n",
    "        for seed in range(seeds[i], seeds[i] + seeds[i+1] + 1): \n",
    "            print(\"Seed\", seed, end=\", \")\n",
    "            soil = curry(seed, almanac[\"seed-to-soil\"])\n",
    "            print(\"soil\", soil, end=\", \")\n",
    "            fertilizer = curry(soil, almanac[\"soil-to-fertilizer\"])\n",
    "            print(\"fertilizer\", fertilizer, end=\", \")\n",
    "            water = curry(fertilizer, almanac[\"fertilizer-to-water\"])\n",
    "            print(\"water\", water, end=\", \")\n",
    "            light = curry(water, almanac[\"water-to-light\"])\n",
    "            print(\"light\", light, end=\", \")\n",
    "            temperature = curry(light, almanac[\"light-to-temperature\"])\n",
    "            print(\"temperature\", temperature, end=\", \")\n",
    "            humidity = curry(temperature, almanac[\"temperature-to-humidity\"])\n",
    "            print(\"humidity\", humidity, end=\", \")\n",
    "            location = curry(humidity, almanac[\"humidity-to-location\"])\n",
    "            print(\"location\", location)\n",
    "            locations.append(location)\n",
    "    return min(locations)\n",
    "\n",
    "\n",
    "day05_part1(sample)"
   ]
  },
  {
   "cell_type": "code",
   "execution_count": 64,
   "metadata": {},
   "outputs": [
    {
     "name": "stdout",
     "output_type": "stream",
     "text": [
      "[(763445965, 78570222)]\n",
      "Seed [(763445965, 78570222)], soil [(913256179, 78570222)], fertilizer [(808129687, 4356205), (1858319884, 74214017)], water [(342296709, 4356205), (668697305, 74214017)], light [(725669157, 74214017), (566293069, 4356205)], temperature [(455684236, 74214017), (934297034, 4356205)], humidity [(467311616, 74214017), (1469775885, 4356205)], location [(79753136, 61561553), (1267175914, 4356205), (564015045, 12652464)]\n",
      "[(1693788857, 146680070)]\n",
      "Seed [(1693788857, 146680070)], soil [(1820616217, 101537597), (1300073435, 45142473)], fertilizer [(1069143868, 101537597), (922500639, 45142473)], water [(1518766961, 101537597), (2289944373, 5493991), (1407794155, 39648482)], light [(3075376094, 58128942), (2978600831, 25450939), (1275636734, 10830099), (3151604360, 5493991), (3520493751, 3709476), (1683455978, 3367444), (3831476263, 39699179)], temperature [(3979188177, 10830099), (1417082953, 39699179), (4268475569, 25450939), (1656659304, 5493991), (1967430652, 3367444), (2663098453, 3709476), (3154016760, 58128942)], humidity [(1693576132, 10830099), (3063712393, 3367444), (2763024726, 3709476), (4247745260, 26038107), (4182755895, 58128942), (4106743805, 13661072), (1520687319, 5493991), (1030838092, 25450939)], location [(4100783722, 3367444), (1693576132, 10830099), (3123909351, 26038107), (3359674858, 3709476), (1338620571, 5493991), (3097413876, 19635052), (718857636, 25450939), (2926562371, 13661072), (3002574461, 38493890)]\n",
      "[(1157620425, 535920936)]\n",
      "Seed [(1157620425, 535920936)], soil [(1988113706, 78481073), (3405938908, 446368460), (1288754536, 11071403)], fertilizer [(4092866705, 192324004), (384761121, 20124353), (3453459139, 4864560), (4019929497, 72937208), (2073349245, 176242688), (911181740, 11071403), (1236641357, 12682214)], water [(922447685, 1152973), (1686264450, 12682214), (148090750, 20124353), (4029995622, 4864560), (1396475256, 11071403), (3332127872, 72937208), (883726666, 38721019), (3405065080, 128343623), (1171822076, 136368696)], light [(169996441, 20124353), (2171287776, 4864560), (3527642272, 1077891), (1995023678, 19936686), (940698518, 38721019), (1672137079, 11071403), (979419537, 1152973), (3937135334, 12682214), (3393228019, 127265732), (1286466833, 19145648), (3340227497, 53000522), (1570444205, 13408390), (235722985, 14343569)], temperature [(169996441, 20124353), (3990018276, 19145648), (1854418879, 13408390), (3870241361, 4864560), (670713597, 38721019), (3534803741, 13132237), (1205326511, 6804449), (2564647329, 98451124), (2906093673, 53000522), (709434616, 1152973), (1956111753, 11071403), (1522742024, 12682214), (235722985, 14343569), (2959094195, 28814608), (2670246974, 1077891)], humidity [(312876057, 20124353), (1704406231, 19145648), (30504694, 4914708), (2950700620, 13408390), (2664573602, 98451124), (721061996, 1152973), (3954895579, 28814608), (3052393494, 11071403), (2770173247, 1077891), (3569519780, 13132237), (2247880756, 6804449), (2484866492, 12682214), (682340977, 38721019), (3901895057, 53000522), (1218607486, 4864560), (35419402, 9428861)], location [(3913943384, 11560990), (2774714145, 28814608), (3547350752, 6955241), (1534045544, 1152973), (3181277377, 33739548), (1704406231, 19145648), (1495324525, 38721019), (4089464823, 11071403), (2767014161, 7699984), (3682302621, 13132237), (3366823379, 1077891), (1927633230, 6804449), (3261223734, 98451124), (2164618966, 12682214), (231223662, 4914708), (3753912178, 6453149), (236138370, 9428861), (473133131, 4864560), (156075749, 20124353)]\n",
      "[(3187993807, 180072493)]\n",
      "Seed [(3187993807, 180072493)], soil [(3107694830, 180072493)], fertilizer [(3855165515, 164763982), (3789313396, 15308511)], water [(3222157793, 109970079), (3579002269, 54793903), (3778435723, 15308511)], light [(1885053599, 109970079), (3574313729, 54793903), (3773747183, 15308511)], temperature [(2716918431, 47858830), (3551077191, 6935073), (1359353873, 15308511), (1151102092, 54224419), (2169028273, 55745660)], humidity [(1876319691, 55745660), (3584280491, 6900507), (2401908118, 15308511), (3405474225, 16250980), (2816844704, 28349610), (3554817869, 3258240), (2233141120, 34566), (1384333514, 39519349), (2233175686, 14705070)], location [(3667600710, 3258240), (4016737107, 16250980), (1912928160, 14705070), (1181733543, 39519349), (2572691716, 55745660), (3697063332, 3116433), (3413494836, 28349610), (2298119267, 3784074), (1912893594, 34566), (2081660592, 15308511)]\n",
      "[(1047354752, 20193861)]\n",
      "Seed [(1047354752, 20193861)], soil [(1242793066, 20193861)], fertilizer [(865220270, 20193861)], water [(1350513786, 20193861)], light [(1626175609, 20193861)], temperature [(1910150283, 20193861)], humidity [(3006432024, 20193861)], location [(4052786034, 10911180), (3802688341, 9282681)]\n",
      "[(2130924847, 274042257)]\n",
      "Seed [(2130924847, 274042257)], soil [(1345215908, 26124503), (1781158512, 39457705), (236729501, 78757402), (1924746231, 49360033), (352613463, 80342614)], fertilizer [(967643112, 26124503), (1066367453, 2776415), (1614365506, 41919708), (1173273882, 49360033), (0, 36837694), (73964254, 80342614), (348079831, 36681290)], water [(2295438364, 26124503), (357064278, 34561105), (111409460, 36681290), (2745515218, 45781509), (2063988599, 41919708), (1622896975, 49360033), (2671550964, 36837694), (1515990546, 2776415)], light [(581060638, 34561105), (2953172335, 21891449), (2821222063, 34052806), (2879208081, 36837694), (361476014, 33709357), (3157098351, 24122579), (1512152517, 23890060), (2227655152, 7866902), (167024508, 2971933), (3072599679, 2776415), (4266867155, 2001924), (3873767859, 49360033)], temperature [(4243047073, 21891449), (4169082819, 36837694), (4111096801, 34052806), (311075717, 34561105), (3926608737, 7866902), (3151240345, 2776415), (1662153295, 24122579), (1459374549, 49360033), (1796127191, 23890060), (965696632, 16013231), (3446272899, 2001924), (167024508, 2971933), (741167372, 17696126)], humidity [(2892408932, 23890060), (4276375784, 18591512), (4179979480, 2776415), (348097907, 9166295), (105857426, 25394810), (3266061767, 1961635), (1526181310, 24122579), (1501175483, 3819379), (1825484756, 18212966), (4120404877, 12193852), (3837756059, 2001924), (891672290, 15839840), (752794752, 17696126), (309904124, 2971933), (1642958327, 5905267), (1005409596, 21891449), (931445342, 36837694), (2440090529, 30768521)], location [(1565778300, 17696126), (3884340645, 2001924), (1013988443, 740553), (1642958327, 5905267), (191297599, 9166295), (2521856781, 18212966), (491965155, 12019537), (3152539875, 18591512), (1319108735, 3819379), (527917904, 36097141), (1010168140, 3820303), (1344114562, 24122579), (306576394, 25394810), (2940223443, 12193852), (2999798046, 2776415), (3049234151, 1961635), (3489059064, 23890060), (153103816, 2971933), (693429140, 21891449), (2119843003, 30768521)]\n",
      "[(20816377, 596708258)]\n",
      "Seed [(20816377, 596708258)], soil [(679195301, 88139548), (2181304462, 508568710)], fertilizer [(574068809, 88139548), (3246191065, 11178718), (2707509487, 111317034), (3656728030, 98287298), (2607585697, 99923790), (2818826521, 187861870)], water [(3645850357, 98287298), (2389964362, 108897750), (2325614796, 64349566), (3857590008, 11178718), (1064866637, 78690854), (485099161, 9448694), (612936683, 35574224), (2818826521, 187861870)], light [(1445854330, 66298187), (2216121421, 11533731), (709095521, 4714126), (1121838489, 64327156), (4218431369, 5252954), (3641161817, 98287298), (3202646135, 11178718), (164037297, 2987211), (4097967921, 78160170), (92584517, 32587013), (4272921008, 22046288), (395185371, 14363698), (0, 4734568), (1563572371, 6871834), (1405924027, 25812878), (2014960364, 102829866), (4176128091, 42303278)], temperature [(3501854507, 32949234), (3678956431, 38098731), (3452326752, 21058127), (1270767444, 54288361), (3214316172, 988161), (1222222189, 25812878), (981709863, 14363698), (2224773933, 11591811), (439110600, 4714126), (3915075006, 11533731), (3388483069, 9354044), (1847547045, 6871834), (0, 4734568), (3717055162, 99688653), (3570066449, 43998937), (1583488356, 11178718), (1262152492, 8614952), (3397837113, 5252954), (1738443956, 57683235), (92584517, 32587013), (3547935978, 3141213), (3003600991, 64327156), (164037297, 2987211), (3473384879, 28469628)], humidity [(3789320273, 5252954), (3999402375, 64327156), (450737980, 4714126), (142879616, 4734568), (1602471971, 40486356), (1932065351, 11591811), (2875212053, 17196879), (2264776434, 25812878), (235464133, 32587013), (1057329819, 8091468), (2313321689, 54288361), (306916913, 2987211), (3603235183, 7254102), (2304706737, 8614952), (3582652017, 1628474), (4243055307, 988161), (3864868039, 28469628), (3277129360, 33446557), (3375466962, 30007263), (3254528036, 11533731), (2231628381, 1512739), (2545612824, 11178718), (1065421287, 99688653), (3843809912, 21058127), (1423852863, 3298278), (3779966229, 9354044), (3558076109, 11443671), (4132598729, 14363698), (2943828786, 6871834), (3893337667, 333642), (2210456460, 21171921)], location [(3171131387, 1588600), (2313957526, 7254102), (3471862185, 17196879), (3060301744, 33446557), (3890394498, 21058127), (1984459211, 8614952), (3826550815, 9354044), (2225365298, 11178718), (1221252892, 3298278), (2952417295, 14363698), (3670858950, 11443671), (1911380855, 1512739), (1420405223, 33213361), (3041068351, 8165800), (394354440, 25281145), (3540478918, 6871834), (941129780, 67854), (3835904859, 5252954), (2628437376, 11591811), (63179500, 4714126), (3172719987, 333642), (1890208934, 21171921), (3700179765, 24390269), (3911452625, 2490759), (2819220941, 64327156), (3695434858, 1628474), (745349363, 8091468), (4291599365, 3367931), (869677000, 32587013), (150184459, 2919357), (343598584, 4734568), (1944528908, 25812878), (3119219398, 988161), (3986729844, 30007263), (753440831, 74407508), (1993074163, 54288361)]\n",
      "[(950268560, 11451287)]\n",
      "Seed [(950268560, 11451287)], soil [(1100078774, 11451287)], fertilizer [(1768339970, 11451287)], water [(2217963063, 11451287)], light [(2347576810, 10699154), (4223684323, 752133)], temperature [(1128953328, 5703736), (2236365744, 4995418), (3403090067, 752133)], humidity [(1362184750, 5703736), (3794573227, 752133), (1943657162, 4995418)], location [(3841157813, 752133), (2640029187, 4995418), (1159584779, 5703736)]\n",
      "[(3503767450, 182465951)]\n",
      "Seed [(3503767450, 182465951)], soil [(1432618594, 182465951)], fertilizer [(1249323571, 171144296), (1055045798, 11321655)], water [(1698946664, 171144296), (1504668891, 11321655)], light [(3061278024, 11321655), (2604330501, 22993923), (3949817548, 148150373)], temperature [(3340957977, 47525092), (3625555354, 53401077), (2487415699, 22993923), (3139918690, 11321655), (1535424238, 47224204)], humidity [(3322065885, 53401077), (4168657825, 11321655), (2497548706, 47224204), (3732441137, 47525092), (2603091315, 7244580), (2194707117, 15749343)], location [(3933328767, 53401077), (1874459591, 15749343), (2443163480, 32945299), (2177301180, 47224204), (2988476391, 11321655), (3811971022, 14579793), (2282843789, 7244580)]\n",
      "[(3760349291, 265669041)]\n",
      "Seed [(3760349291, 265669041)], soil [(1689200435, 91958077)], fertilizer [(256121754, 91958077)], water [(19451383, 91958077)], light [(269517937, 91958077)], temperature [(938881022, 26815610), (758863498, 30471597), (737870701, 3296671)], humidity [(770490878, 30471597), (749498081, 3296671), (1474359873, 26815610)], location [(1562481629, 3296671), (1583474426, 30471597), (141314689, 8869770), (1453618584, 636211), (1271759902, 16621718), (1318420824, 687911)]\n"
     ]
    },
    {
     "data": {
      "text/plain": [
       "63179500"
      ]
     },
     "execution_count": 64,
     "metadata": {},
     "output_type": "execute_result"
    }
   ],
   "source": [
    "\n",
    "def parse_ranges(line: str) -> dict[int, int]:\n",
    "    destination, source, source_range = map(int, line.split(\" \"))\n",
    "    return destination, source, source_range\n",
    "\n",
    "\n",
    "def parse_maps(maps: list[str]) -> dict[str, dict[int, int]]:\n",
    "    almanac = defaultdict(list)\n",
    "    map_key = None\n",
    "    for line in maps:\n",
    "        if 'map' in line:\n",
    "            map_key = line.replace(\"map:\", \"\").strip()\n",
    "        elif line != \"\":\n",
    "            almanac[map_key].append(parse_ranges(line))\n",
    "    return almanac\n",
    "\n",
    "\n",
    "def find_destinations(input: tuple[int, int], destinations: list, data: list[tuple[int, int, int]]) -> list[tuple[int, int]]:\n",
    "    max_input = sum(input)\n",
    "    min_input = input[0]\n",
    "    for i, (destination, source, source_range) in enumerate(data):\n",
    "        max_source = source + source_range\n",
    "        \n",
    "        # left overlap\n",
    "        if min_input < source and max_input > source and max_input <= max_source:\n",
    "            destinations.extend([\n",
    "                (destination, max_input - source),\n",
    "            ])\n",
    "            destinations = find_destinations((min_input, source - min_input), destinations, data[i:])\n",
    "        # right overlap\n",
    "        elif min_input >= source and max_input > max_source and min_input < max_source:\n",
    "            destinations.extend([\n",
    "                (destination + min_input - source, max_source - min_input),\n",
    "            ])\n",
    "            destinations = find_destinations((max_source, max_input - max_source), destinations, data[i:])\n",
    "        # in between\n",
    "        elif min_input >= source and max_input <= max_source:\n",
    "            destinations.append(\n",
    "                (destination + min_input - source, input[1]),\n",
    "            )\n",
    "\n",
    "        # covers \n",
    "        elif min_input <= source and max_input >= max_source:\n",
    "            destinations.extend([\n",
    "                (destination, source_range),\n",
    "            ])\n",
    "            destinations = find_destinations((min_input, source - min_input), destinations, data[i:])\n",
    "            destinations = find_destinations((max_source, max_input - max_source), destinations, data[i:])\n",
    "\n",
    "\n",
    "    if len(destinations) == 0:\n",
    "        destinations.append(input)\n",
    "    return destinations\n",
    "\n",
    "\n",
    "def curry(inputs: list[tuple[int, int]], data: list[tuple[int, int, int]]) -> list[tuple[int, int]]:\n",
    "    output = set()\n",
    "    for input in inputs:\n",
    "        destinatinos = find_destinations(input, [], data)\n",
    "        output.update(destinatinos)\n",
    "    return list(output)\n",
    "\n",
    "\n",
    "def day05_part2(input):\n",
    "    seeds = parse_seeds(input[0])\n",
    "    almanac = parse_maps(input[2:])\n",
    "    locations = []\n",
    "    for i in range(0, len(seeds), 2):\n",
    "        seed = [(seeds[i], seeds[i+1])]\n",
    "        print(seed)\n",
    "        print(\"Seed\", seed, end=\", \")\n",
    "        soil = curry(seed, almanac[\"seed-to-soil\"])\n",
    "        print(\"soil\", soil, end=\", \")\n",
    "        fertilizer = curry(soil, almanac[\"soil-to-fertilizer\"])\n",
    "        print(\"fertilizer\", fertilizer, end=\", \")\n",
    "        water = curry(fertilizer, almanac[\"fertilizer-to-water\"])\n",
    "        print(\"water\", water, end=\", \")\n",
    "        light = curry(water, almanac[\"water-to-light\"])\n",
    "        print(\"light\", light, end=\", \")\n",
    "        temperature = curry(light, almanac[\"light-to-temperature\"])\n",
    "        print(\"temperature\", temperature, end=\", \")\n",
    "        humidity = curry(temperature, almanac[\"temperature-to-humidity\"])\n",
    "        print(\"humidity\", humidity, end=\", \")\n",
    "        location = curry(humidity, almanac[\"humidity-to-location\"])\n",
    "        print(\"location\", location)\n",
    "        locations.extend(location)\n",
    "    #return locations\n",
    "    return min(locations)[0]\n",
    "\n",
    "\n",
    "#assert day05_part2(sample) == 46, day05_part2(sample)\n",
    "\n",
    "day05_part2(input)"
   ]
  },
  {
   "cell_type": "code",
   "execution_count": 61,
   "metadata": {},
   "outputs": [
    {
     "data": {
      "text/plain": [
       "[(60, 1), (82, 3), (86, 4)]"
      ]
     },
     "execution_count": 61,
     "metadata": {},
     "output_type": "execute_result"
    }
   ],
   "source": []
  },
  {
   "cell_type": "code",
   "execution_count": 58,
   "metadata": {},
   "outputs": [
    {
     "data": {
      "text/plain": [
       "(0, 1508834)"
      ]
     },
     "execution_count": 58,
     "metadata": {},
     "output_type": "execute_result"
    }
   ],
   "source": [
    "min(l)"
   ]
  },
  {
   "cell_type": "code",
   "execution_count": null,
   "metadata": {},
   "outputs": [],
   "source": []
  }
 ],
 "metadata": {
  "kernelspec": {
   "display_name": "base",
   "language": "python",
   "name": "python3"
  },
  "language_info": {
   "codemirror_mode": {
    "name": "ipython",
    "version": 3
   },
   "file_extension": ".py",
   "mimetype": "text/x-python",
   "name": "python",
   "nbconvert_exporter": "python",
   "pygments_lexer": "ipython3",
   "version": "3.10.13"
  }
 },
 "nbformat": 4,
 "nbformat_minor": 2
}
