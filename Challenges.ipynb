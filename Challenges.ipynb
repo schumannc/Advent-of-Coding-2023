{
 "cells": [
  {
   "cell_type": "code",
   "execution_count": 1,
   "metadata": {},
   "outputs": [],
   "source": [
    "import pandas as pd"
   ]
  },
  {
   "cell_type": "code",
   "execution_count": 2,
   "metadata": {},
   "outputs": [],
   "source": [
    "def load_input(path):\n",
    "    with open(path) as f:\n",
    "        return f.read().splitlines()"
   ]
  },
  {
   "cell_type": "markdown",
   "metadata": {},
   "source": [
    "# Day 1\n",
    "\n",
    "Something is wrong with global snow production, and you've been selected to take a look. The Elves have even given you a map; on it, they've used stars to mark the top fifty locations that are likely to be having problems.\n",
    "\n",
    "You've been doing this long enough to know that to restore snow operations, you need to check all fifty stars by December 25th.\n",
    "\n",
    "Collect stars by solving puzzles. Two puzzles will be made available on each day in the Advent calendar; the second puzzle is unlocked when you complete the first. Each puzzle grants one star. Good luck!\n",
    "\n",
    "You try to ask why they can't just use a weather machine (\"not powerful enough\") and where they're even sending you (\"the sky\") and why your map looks mostly blank (\"you sure ask a lot of questions\") and hang on did you just say the sky (\"of course, where do you think snow comes from\") when you realize that the Elves are already loading you into a trebuchet (\"please hold still, we need to strap you in\").\n",
    "\n",
    "As they're making the final adjustments, they discover that their calibration document (your puzzle input) has been amended by a very young Elf who was apparently just excited to show off her art skills. Consequently, the Elves are having trouble reading the values on the document.\n",
    "\n",
    "The newly-improved calibration document consists of lines of text; each line originally contained a specific calibration value that the Elves now need to recover. On each line, the calibration value can be found by combining the first digit and the last digit (in that order) to form a single two-digit number.\n",
    "\n",
    "For example:\n",
    "\n",
    "            1abc2\n",
    "            pqr3stu8vwx\n",
    "            a1b2c3d4e5f\n",
    "            treb7uchet\n",
    "\n",
    "In this example, the calibration values of these four lines are 12, 38, 15, and 77. Adding these together produces 142.\n",
    "\n",
    "Consider your entire calibration document. What is the sum of all of the calibration values?"
   ]
  },
  {
   "cell_type": "code",
   "execution_count": 3,
   "metadata": {},
   "outputs": [
    {
     "data": {
      "text/plain": [
       "['gsjgklneight6zqfz',\n",
       " '7one718onegfqtdbtxfcmd',\n",
       " 'xvtfhkm8c9',\n",
       " '914two8',\n",
       " 'vxzzvdhfqfsix83c1ttvbbstxgdrkfcnmm3']"
      ]
     },
     "execution_count": 3,
     "metadata": {},
     "output_type": "execute_result"
    }
   ],
   "source": [
    "input = load_input('./data/input_day1.txt')\n",
    "input[:5]"
   ]
  },
  {
   "cell_type": "code",
   "execution_count": 4,
   "metadata": {},
   "outputs": [
    {
     "data": {
      "text/plain": [
       "55108"
      ]
     },
     "execution_count": 4,
     "metadata": {},
     "output_type": "execute_result"
    }
   ],
   "source": [
    "sample = ['1abc2', 'pqr3stu8vwx', 'a1b2c3d4e5f', 'treb7uchet']\n",
    "expected = [12, 38, 15, 77]\n",
    "\n",
    "def first_digit(code:str) -> str:\n",
    "    for i in code:\n",
    "        if i.isdigit():\n",
    "            return i\n",
    "        \n",
    "def day01_part1(input):\n",
    "    results = []\n",
    "    for code in input:\n",
    "        d1 = first_digit(code)\n",
    "        d2 = first_digit(code[::-1])\n",
    "        value = int(d1+d2)\n",
    "        #print(f'{code} -> {value}')\n",
    "        results.append(value)\n",
    "    return sum(results)\n",
    "\n",
    "\n",
    "assert day01_part1(sample) == sum(expected)\n",
    "\n",
    "day01_part1(input)"
   ]
  },
  {
   "cell_type": "markdown",
   "metadata": {},
   "source": [
    "--- Part Two ---\n",
    "\n",
    "Your calculation isn't quite right. It looks like some of the digits are actually spelled out with letters: one, two, three, four, five, six, seven, eight, and nine also count as valid \"digits\".\n",
    "\n",
    "Equipped with this new information, you now need to find the real first and last digit on each line. For example:\n",
    "\n",
    "        two1nine\n",
    "        eigtwohthree\n",
    "        abcone2threexyz\n",
    "        xtwone3four\n",
    "        4nineeightseven2\n",
    "        zoneight234\n",
    "        7pqrstsixteen\n",
    "        \n",
    "In this example, the calibration values are 29, 83, 13, 24, 42, 14, and 76. Adding these together produces 281.\n",
    "\n",
    "What is the sum of all of the calibration values?"
   ]
  },
  {
   "cell_type": "code",
   "execution_count": 5,
   "metadata": {},
   "outputs": [
    {
     "name": "stdout",
     "output_type": "stream",
     "text": [
      "[29, 83, 13, 24, 42, 14, 76]\n"
     ]
    },
    {
     "data": {
      "text/plain": [
       "56324"
      ]
     },
     "execution_count": 5,
     "metadata": {},
     "output_type": "execute_result"
    }
   ],
   "source": [
    "sample = ['two1nine', 'eightwothree', 'abcone2threexyz', 'xtwone3four', '4nineeightseven2', 'zoneight234', '7pqrstsixteen']\n",
    "expected = [29, 83, 13, 24, 42, 14, 76]\n",
    "\n",
    "def first_digit(code:str, reversed=False) -> str:\n",
    "    words = ['one', 'two', 'three', 'four', 'five', 'six', 'seven', 'eight', 'nine']\n",
    "    if reversed:\n",
    "        code = code[::-1]\n",
    "        words = [word[::-1] for word in words]\n",
    "    ck = \"\"\n",
    "    for i in code:\n",
    "        ck += i\n",
    "        for j, word in enumerate(words):\n",
    "            if word in ck:\n",
    "                return str(j + 1)\n",
    "        if i.isdigit():\n",
    "            return i\n",
    "\n",
    "def day01_part2(input):\n",
    "    results = []\n",
    "    for code in input:\n",
    "        d1 = first_digit(code)\n",
    "        d2 = first_digit(code, reversed=True)\n",
    "        value = int(d1+d2)\n",
    "        #print(f'{code} -> {value}')\n",
    "        results.append(value)\n",
    "    return sum(results)\n",
    "\n",
    "print(expected)\n",
    "assert day01_part2(sample) == sum(expected)\n",
    "\n",
    "day01_part2(input)"
   ]
  },
  {
   "cell_type": "markdown",
   "metadata": {},
   "source": [
    "--- Day 2: Cube Conundrum ---\n",
    "\n",
    "\n",
    "You're launched high into the atmosphere! The apex of your trajectory just barely reaches the surface of a large island floating in the sky. You gently land in a fluffy pile of leaves. It's quite cold, but you don't see much snow. An Elf runs over to greet you.\n",
    "\n",
    "The Elf explains that you've arrived at Snow Island and apologizes for the lack of snow. He'll be happy to explain the situation, but it's a bit of a walk, so you have some time. They don't get many visitors up here; would you like to play a game in the meantime?\n",
    "\n",
    "As you walk, the Elf shows you a small bag and some cubes which are either red, green, or blue. Each time you play this game, he will hide a secret number of cubes of each color in the bag, and your goal is to figure out information about the number of cubes.\n",
    "\n",
    "To get information, once a bag has been loaded with cubes, the Elf will reach into the bag, grab a handful of random cubes, show them to you, and then put them back in the bag. He'll do this a few times per game.\n",
    "\n",
    "You play several games and record the information from each game (your puzzle input). Each game is listed with its ID number (like the 11 in Game 11: ...) followed by a semicolon-separated list of subsets of cubes that were revealed from the bag (like 3 red, 5 green, 4 blue).\n",
    "\n",
    "For example, the record of a few games might look like this:\n",
    "\n",
    "        Game 1: 3 blue, 4 red; 1 red, 2 green, 6 blue; 2 green\n",
    "        Game 2: 1 blue, 2 green; 3 green, 4 blue, 1 red; 1 green, 1 blue\n",
    "        Game 3: 8 green, 6 blue, 20 red; 5 blue, 4 red, 13 green; 5 green, 1 red\n",
    "        Game 4: 1 green, 3 red, 6 blue; 3 green, 6 red; 3 green, 15 blue, 14 red\n",
    "        Game 5: 6 red, 1 blue, 3 green; 2 blue, 1 red, 2 green\n",
    "        \n",
    "In game 1, three sets of cubes are revealed from the bag (and then put back again). The first set is 3 blue cubes and 4 red cubes; the second set is 1 red cube, 2 green cubes, and 6 blue cubes; the third set is only 2 green cubes.\n",
    "\n",
    "The Elf would first like to know which games would have been possible if the bag contained only 12 red cubes, 13 green cubes, and 14 blue cubes?\n",
    "\n",
    "In the example above, games 1, 2, and 5 would have been possible if the bag had been loaded with that configuration. However, game 3 would have been impossible because at one point the Elf showed you 20 red cubes at once; similarly, game 4 would also have been impossible because the Elf showed you 15 blue cubes at once. If you add up the IDs of the games that would have been possible, you get 8.\n",
    "\n",
    "Determine which games would have been possible if the bag had been loaded with only 12 red cubes, 13 green cubes, and 14 blue cubes. What is the sum of the IDs of those games?"
   ]
  },
  {
   "cell_type": "code",
   "execution_count": 8,
   "metadata": {},
   "outputs": [
    {
     "data": {
      "text/plain": [
       "['Game 1: 7 green, 14 red, 5 blue; 8 red, 4 green; 6 green, 18 red, 9 blue',\n",
       " 'Game 2: 3 blue, 15 red, 5 green; 1 blue, 14 red, 5 green; 11 red; 4 green, 1 blue, 3 red; 4 green, 1 blue; 10 red, 1 green',\n",
       " 'Game 3: 11 green, 3 red; 4 green, 15 blue; 14 blue, 2 red, 10 green; 1 red, 3 green, 10 blue',\n",
       " 'Game 4: 1 green, 6 red, 11 blue; 3 blue, 12 red; 1 green, 14 red, 8 blue; 3 blue, 7 red; 8 blue, 5 red; 7 red, 1 green',\n",
       " 'Game 5: 14 green, 3 red, 3 blue; 2 red, 1 green, 1 blue; 8 green, 3 blue, 1 red; 15 green, 8 blue, 1 red']"
      ]
     },
     "execution_count": 8,
     "metadata": {},
     "output_type": "execute_result"
    }
   ],
   "source": [
    "input = load_input('./data/input_day2.txt')\n",
    "input[:5]"
   ]
  },
  {
   "cell_type": "code",
   "execution_count": 17,
   "metadata": {},
   "outputs": [
    {
     "data": {
      "text/plain": [
       "2101"
      ]
     },
     "execution_count": 17,
     "metadata": {},
     "output_type": "execute_result"
    }
   ],
   "source": [
    "sample = [\n",
    "    \"Game 1: 3 blue, 4 red; 1 red, 2 green, 6 blue; 2 green\",\n",
    "    \"Game 2: 1 blue, 2 green; 3 green, 4 blue, 1 red; 1 green, 1 blue\",\n",
    "    \"Game 3: 8 green, 6 blue, 20 red; 5 blue, 4 red, 13 green; 5 green, 1 red\",\n",
    "    \"Game 4: 1 green, 3 red, 6 blue; 3 green, 6 red; 3 green, 15 blue, 14 red\",\n",
    "    \"Game 5: 6 red, 1 blue, 3 green; 2 blue, 1 red, 2 green\",\n",
    "]\n",
    "expected = 8\n",
    "\n",
    "def is_valid_game(game: dict[str, int]) -> bool:\n",
    "    limits = {\"red\": 12, \"blue\": 14, \"green\": 13}\n",
    "    for color, count in game.items():\n",
    "        if color == \"game_id\": continue\n",
    "        if count > limits[color]:\n",
    "            return False\n",
    "    return True\n",
    "\n",
    "def parse_game(game: str) -> dict[str, int]:\n",
    "    game = game.split(\":\")\n",
    "    game_id = int(game[0].split(\" \")[1])\n",
    "    rounds = game[1].split(\";\")\n",
    "    data = {'red': 1, 'blue': 1, 'green': 1}\n",
    "    for round in rounds:\n",
    "        cubes = round.split(\",\")\n",
    "        for cube in cubes:\n",
    "            cube = cube.strip()\n",
    "            count, color = cube.split(\" \")\n",
    "            count = int(count)\n",
    "            if count > data[color]:\n",
    "                data[color] = count\n",
    "    return {\n",
    "        'game_id': game_id,\n",
    "        'red': data['red'],\n",
    "        'blue': data['blue'],\n",
    "        'green': data['green']\n",
    "    }\n",
    "\n",
    "def day02_part1(input):\n",
    "    results = []\n",
    "    for game in input:\n",
    "        game = parse_game(game)\n",
    "        #print(game)\n",
    "        if is_valid_game(game):\n",
    "            results.append(game['game_id'])\n",
    "    return sum(results)\n",
    "\n",
    "assert day02_part1(sample) == expected\n",
    "\n",
    "day02_part1(input)"
   ]
  },
  {
   "cell_type": "markdown",
   "metadata": {},
   "source": [
    "--- Part Two ---\n",
    "\n",
    "\n",
    "The Elf says they've stopped producing snow because they aren't getting any water! He isn't sure why the water stopped; however, he can show you how to get to the water source to check it out for yourself. It's just up ahead!\n",
    "\n",
    "As you continue your walk, the Elf poses a second question: in each game you played, what is the fewest number of cubes of each color that could have been in the bag to make the game possible?\n",
    "\n",
    "Again consider the example games from earlier:\n",
    "\n",
    "        Game 1: 3 blue, 4 red; 1 red, 2 green, 6 blue; 2 green\n",
    "        Game 2: 1 blue, 2 green; 3 green, 4 blue, 1 red; 1 green, 1 blue\n",
    "        Game 3: 8 green, 6 blue, 20 red; 5 blue, 4 red, 13 green; 5 green, 1 red\n",
    "        Game 4: 1 green, 3 red, 6 blue; 3 green, 6 red; 3 green, 15 blue, 14 red\n",
    "        Game 5: 6 red, 1 blue, 3 green; 2 blue, 1 red, 2 green\n",
    "\n",
    "In game 1, the game could have been played with as few as 4 red, 2 green, and 6 blue cubes. If any color had even one fewer cube, the game would have been impossible.\n",
    "Game 2 could have been played with a minimum of 1 red, 3 green, and 4 blue cubes.\n",
    "Game 3 must have been played with at least 20 red, 13 green, and 6 blue cubes.\n",
    "Game 4 required at least 14 red, 3 green, and 15 blue cubes.\n",
    "Game 5 needed no fewer than 6 red, 3 green, and 2 blue cubes in the bag.\n",
    "The power of a set of cubes is equal to the numbers of red, green, and blue cubes multiplied together. The power of the minimum set of cubes in game 1 is 48. In games 2-5 it was 12, 1560, 630, and 36, respectively. Adding up these five powers produces the sum 2286.\n",
    "\n",
    "For each game, find the minimum set of cubes that must have been present. What is the sum of the power of these sets?"
   ]
  },
  {
   "cell_type": "code",
   "execution_count": 21,
   "metadata": {},
   "outputs": [
    {
     "data": {
      "text/plain": [
       "58269"
      ]
     },
     "execution_count": 21,
     "metadata": {},
     "output_type": "execute_result"
    }
   ],
   "source": [
    "expected = 2286\n",
    "\n",
    "def day02_part2(input):\n",
    "    results = []\n",
    "    for game in input:\n",
    "        game = parse_game(game)\n",
    "        power = game['red'] * game['blue'] * game['green']\n",
    "        results.append(power)\n",
    "    return sum(results)\n",
    "\n",
    "assert day02_part2(sample) == expected\n",
    "\n",
    "day02_part2(input)"
   ]
  },
  {
   "cell_type": "code",
   "execution_count": null,
   "metadata": {},
   "outputs": [],
   "source": []
  }
 ],
 "metadata": {
  "kernelspec": {
   "display_name": "base",
   "language": "python",
   "name": "python3"
  },
  "language_info": {
   "codemirror_mode": {
    "name": "ipython",
    "version": 3
   },
   "file_extension": ".py",
   "mimetype": "text/x-python",
   "name": "python",
   "nbconvert_exporter": "python",
   "pygments_lexer": "ipython3",
   "version": "3.10.13"
  }
 },
 "nbformat": 4,
 "nbformat_minor": 2
}
