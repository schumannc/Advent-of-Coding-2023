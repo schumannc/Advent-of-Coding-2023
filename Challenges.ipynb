{
 "cells": [
  {
   "cell_type": "code",
   "execution_count": null,
   "metadata": {},
   "outputs": [],
   "source": [
    "import pandas as pd"
   ]
  },
  {
   "cell_type": "code",
   "execution_count": null,
   "metadata": {},
   "outputs": [],
   "source": [
    "def load_input(path):\n",
    "    with open(path) as f:\n",
    "        return f.read().splitlines()"
   ]
  },
  {
   "cell_type": "markdown",
   "metadata": {},
   "source": [
    "# Day 1\n",
    "\n",
    "Something is wrong with global snow production, and you've been selected to take a look. The Elves have even given you a map; on it, they've used stars to mark the top fifty locations that are likely to be having problems.\n",
    "\n",
    "You've been doing this long enough to know that to restore snow operations, you need to check all fifty stars by December 25th.\n",
    "\n",
    "Collect stars by solving puzzles. Two puzzles will be made available on each day in the Advent calendar; the second puzzle is unlocked when you complete the first. Each puzzle grants one star. Good luck!\n",
    "\n",
    "You try to ask why they can't just use a weather machine (\"not powerful enough\") and where they're even sending you (\"the sky\") and why your map looks mostly blank (\"you sure ask a lot of questions\") and hang on did you just say the sky (\"of course, where do you think snow comes from\") when you realize that the Elves are already loading you into a trebuchet (\"please hold still, we need to strap you in\").\n",
    "\n",
    "As they're making the final adjustments, they discover that their calibration document (your puzzle input) has been amended by a very young Elf who was apparently just excited to show off her art skills. Consequently, the Elves are having trouble reading the values on the document.\n",
    "\n",
    "The newly-improved calibration document consists of lines of text; each line originally contained a specific calibration value that the Elves now need to recover. On each line, the calibration value can be found by combining the first digit and the last digit (in that order) to form a single two-digit number.\n",
    "\n",
    "For example:\n",
    "\n",
    "            1abc2\n",
    "            pqr3stu8vwx\n",
    "            a1b2c3d4e5f\n",
    "            treb7uchet\n",
    "\n",
    "In this example, the calibration values of these four lines are 12, 38, 15, and 77. Adding these together produces 142.\n",
    "\n",
    "Consider your entire calibration document. What is the sum of all of the calibration values?"
   ]
  },
  {
   "cell_type": "code",
   "execution_count": null,
   "metadata": {},
   "outputs": [],
   "source": [
    "input = load_input('./data/input_day1_p1.txt')\n",
    "input"
   ]
  },
  {
   "cell_type": "code",
   "execution_count": null,
   "metadata": {},
   "outputs": [],
   "source": [
    "sample = ['1abc2', 'pqr3stu8vwx', 'a1b2c3d4e5f', 'treb7uchet']\n",
    "expected = [12, 38, 15, 77]\n",
    "\n",
    "def first_digit(code:str) -> str:\n",
    "    for i in code:\n",
    "        if i.isdigit():\n",
    "            return i\n",
    "        \n",
    "def day01_part1(input):\n",
    "    results = []\n",
    "    for code in input:\n",
    "        d1 = first_digit(code)\n",
    "        d2 = first_digit(code[::-1])\n",
    "        value = int(d1+d2)\n",
    "        print(f'{code} -> {value}')\n",
    "        results.append(value)\n",
    "    return sum(results)\n",
    "\n",
    "\n",
    "assert day01_part1(sample) == sum(expected)\n",
    "\n",
    "day01_part1(input)"
   ]
  },
  {
   "cell_type": "markdown",
   "metadata": {},
   "source": [
    "--- Part Two ---\n",
    "\n",
    "Your calculation isn't quite right. It looks like some of the digits are actually spelled out with letters: one, two, three, four, five, six, seven, eight, and nine also count as valid \"digits\".\n",
    "\n",
    "Equipped with this new information, you now need to find the real first and last digit on each line. For example:\n",
    "\n",
    "        two1nine\n",
    "        eigtwohthree\n",
    "        abcone2threexyz\n",
    "        xtwone3four\n",
    "        4nineeightseven2\n",
    "        zoneight234\n",
    "        7pqrstsixteen\n",
    "        \n",
    "In this example, the calibration values are 29, 83, 13, 24, 42, 14, and 76. Adding these together produces 281.\n",
    "\n",
    "What is the sum of all of the calibration values?"
   ]
  },
  {
   "cell_type": "code",
   "execution_count": null,
   "metadata": {},
   "outputs": [],
   "source": [
    "sample = ['two1nine', 'eightwothree', 'abcone2threexyz', 'xtwone3four', '4nineeightseven2', 'zoneight234', '7pqrstsixteen']\n",
    "expected = [29, 83, 13, 24, 42, 14, 76]\n",
    "\n",
    "def first_digit(code:str, reversed=False) -> str:\n",
    "    words = ['one', 'two', 'three', 'four', 'five', 'six', 'seven', 'eight', 'nine']\n",
    "    if reversed:\n",
    "        code = code[::-1]\n",
    "        words = [word[::-1] for word in words]\n",
    "    ck = \"\"\n",
    "    for i in code:\n",
    "        ck += i\n",
    "        for j, word in enumerate(words):\n",
    "            if word in ck:\n",
    "                return str(j + 1)\n",
    "        if i.isdigit():\n",
    "            return i\n",
    "\n",
    "def day01_part2(input):\n",
    "    results = []\n",
    "    for code in input:\n",
    "        d1 = first_digit(code)\n",
    "        d2 = first_digit(code, reversed=True)\n",
    "        value = int(d1+d2)\n",
    "        print(f'{code} -> {value}')\n",
    "        results.append(value)\n",
    "    return sum(results)\n",
    "\n",
    "print(expected)\n",
    "assert day01_part2(sample) == sum(expected)\n",
    "\n",
    "day01_part2(input)"
   ]
  },
  {
   "cell_type": "code",
   "execution_count": null,
   "metadata": {},
   "outputs": [],
   "source": []
  }
 ],
 "metadata": {
  "kernelspec": {
   "display_name": "base",
   "language": "python",
   "name": "python3"
  },
  "language_info": {
   "codemirror_mode": {
    "name": "ipython",
    "version": 3
   },
   "file_extension": ".py",
   "mimetype": "text/x-python",
   "name": "python",
   "nbconvert_exporter": "python",
   "pygments_lexer": "ipython3",
   "version": "3.10.13"
  }
 },
 "nbformat": 4,
 "nbformat_minor": 2
}
