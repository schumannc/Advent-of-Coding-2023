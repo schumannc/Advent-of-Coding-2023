{
 "cells": [
  {
   "cell_type": "code",
   "execution_count": 1,
   "metadata": {},
   "outputs": [],
   "source": [
    "import pandas as pd"
   ]
  },
  {
   "cell_type": "code",
   "execution_count": 2,
   "metadata": {},
   "outputs": [],
   "source": [
    "def load_input(path):\n",
    "    with open(path) as f:\n",
    "        return f.read().splitlines()"
   ]
  },
  {
   "cell_type": "markdown",
   "metadata": {},
   "source": [
    "# Day 1\n",
    "\n",
    "Something is wrong with global snow production, and you've been selected to take a look. The Elves have even given you a map; on it, they've used stars to mark the top fifty locations that are likely to be having problems.\n",
    "\n",
    "You've been doing this long enough to know that to restore snow operations, you need to check all fifty stars by December 25th.\n",
    "\n",
    "Collect stars by solving puzzles. Two puzzles will be made available on each day in the Advent calendar; the second puzzle is unlocked when you complete the first. Each puzzle grants one star. Good luck!\n",
    "\n",
    "You try to ask why they can't just use a weather machine (\"not powerful enough\") and where they're even sending you (\"the sky\") and why your map looks mostly blank (\"you sure ask a lot of questions\") and hang on did you just say the sky (\"of course, where do you think snow comes from\") when you realize that the Elves are already loading you into a trebuchet (\"please hold still, we need to strap you in\").\n",
    "\n",
    "As they're making the final adjustments, they discover that their calibration document (your puzzle input) has been amended by a very young Elf who was apparently just excited to show off her art skills. Consequently, the Elves are having trouble reading the values on the document.\n",
    "\n",
    "The newly-improved calibration document consists of lines of text; each line originally contained a specific calibration value that the Elves now need to recover. On each line, the calibration value can be found by combining the first digit and the last digit (in that order) to form a single two-digit number.\n",
    "\n",
    "For example:\n",
    "\n",
    "            1abc2\n",
    "            pqr3stu8vwx\n",
    "            a1b2c3d4e5f\n",
    "            treb7uchet\n",
    "\n",
    "In this example, the calibration values of these four lines are 12, 38, 15, and 77. Adding these together produces 142.\n",
    "\n",
    "Consider your entire calibration document. What is the sum of all of the calibration values?"
   ]
  },
  {
   "cell_type": "code",
   "execution_count": 3,
   "metadata": {},
   "outputs": [
    {
     "data": {
      "text/plain": [
       "['gsjgklneight6zqfz',\n",
       " '7one718onegfqtdbtxfcmd',\n",
       " 'xvtfhkm8c9',\n",
       " '914two8',\n",
       " 'vxzzvdhfqfsix83c1ttvbbstxgdrkfcnmm3']"
      ]
     },
     "execution_count": 3,
     "metadata": {},
     "output_type": "execute_result"
    }
   ],
   "source": [
    "input = load_input('./data/input_day1.txt')\n",
    "input[:5]"
   ]
  },
  {
   "cell_type": "code",
   "execution_count": 4,
   "metadata": {},
   "outputs": [
    {
     "data": {
      "text/plain": [
       "55108"
      ]
     },
     "execution_count": 4,
     "metadata": {},
     "output_type": "execute_result"
    }
   ],
   "source": [
    "sample = ['1abc2', 'pqr3stu8vwx', 'a1b2c3d4e5f', 'treb7uchet']\n",
    "expected = [12, 38, 15, 77]\n",
    "\n",
    "def first_digit(code:str) -> str:\n",
    "    for i in code:\n",
    "        if i.isdigit():\n",
    "            return i\n",
    "        \n",
    "def day01_part1(input):\n",
    "    results = []\n",
    "    for code in input:\n",
    "        d1 = first_digit(code)\n",
    "        d2 = first_digit(code[::-1])\n",
    "        value = int(d1+d2)\n",
    "        #print(f'{code} -> {value}')\n",
    "        results.append(value)\n",
    "    return sum(results)\n",
    "\n",
    "\n",
    "assert day01_part1(sample) == sum(expected)\n",
    "\n",
    "day01_part1(input)"
   ]
  },
  {
   "cell_type": "markdown",
   "metadata": {},
   "source": [
    "--- Part Two ---\n",
    "\n",
    "Your calculation isn't quite right. It looks like some of the digits are actually spelled out with letters: one, two, three, four, five, six, seven, eight, and nine also count as valid \"digits\".\n",
    "\n",
    "Equipped with this new information, you now need to find the real first and last digit on each line. For example:\n",
    "\n",
    "        two1nine\n",
    "        eigtwohthree\n",
    "        abcone2threexyz\n",
    "        xtwone3four\n",
    "        4nineeightseven2\n",
    "        zoneight234\n",
    "        7pqrstsixteen\n",
    "        \n",
    "In this example, the calibration values are 29, 83, 13, 24, 42, 14, and 76. Adding these together produces 281.\n",
    "\n",
    "What is the sum of all of the calibration values?"
   ]
  },
  {
   "cell_type": "code",
   "execution_count": 5,
   "metadata": {},
   "outputs": [
    {
     "name": "stdout",
     "output_type": "stream",
     "text": [
      "[29, 83, 13, 24, 42, 14, 76]\n"
     ]
    },
    {
     "data": {
      "text/plain": [
       "56324"
      ]
     },
     "execution_count": 5,
     "metadata": {},
     "output_type": "execute_result"
    }
   ],
   "source": [
    "sample = ['two1nine', 'eightwothree', 'abcone2threexyz', 'xtwone3four', '4nineeightseven2', 'zoneight234', '7pqrstsixteen']\n",
    "expected = [29, 83, 13, 24, 42, 14, 76]\n",
    "\n",
    "def first_digit(code:str, reversed=False) -> str:\n",
    "    words = ['one', 'two', 'three', 'four', 'five', 'six', 'seven', 'eight', 'nine']\n",
    "    if reversed:\n",
    "        code = code[::-1]\n",
    "        words = [word[::-1] for word in words]\n",
    "    ck = \"\"\n",
    "    for i in code:\n",
    "        ck += i\n",
    "        for j, word in enumerate(words):\n",
    "            if word in ck:\n",
    "                return str(j + 1)\n",
    "        if i.isdigit():\n",
    "            return i\n",
    "\n",
    "def day01_part2(input):\n",
    "    results = []\n",
    "    for code in input:\n",
    "        d1 = first_digit(code)\n",
    "        d2 = first_digit(code, reversed=True)\n",
    "        value = int(d1+d2)\n",
    "        #print(f'{code} -> {value}')\n",
    "        results.append(value)\n",
    "    return sum(results)\n",
    "\n",
    "print(expected)\n",
    "assert day01_part2(sample) == sum(expected)\n",
    "\n",
    "day01_part2(input)"
   ]
  },
  {
   "cell_type": "markdown",
   "metadata": {},
   "source": [
    "--- Day 2: Cube Conundrum ---\n",
    "\n",
    "\n",
    "You're launched high into the atmosphere! The apex of your trajectory just barely reaches the surface of a large island floating in the sky. You gently land in a fluffy pile of leaves. It's quite cold, but you don't see much snow. An Elf runs over to greet you.\n",
    "\n",
    "The Elf explains that you've arrived at Snow Island and apologizes for the lack of snow. He'll be happy to explain the situation, but it's a bit of a walk, so you have some time. They don't get many visitors up here; would you like to play a game in the meantime?\n",
    "\n",
    "As you walk, the Elf shows you a small bag and some cubes which are either red, green, or blue. Each time you play this game, he will hide a secret number of cubes of each color in the bag, and your goal is to figure out information about the number of cubes.\n",
    "\n",
    "To get information, once a bag has been loaded with cubes, the Elf will reach into the bag, grab a handful of random cubes, show them to you, and then put them back in the bag. He'll do this a few times per game.\n",
    "\n",
    "You play several games and record the information from each game (your puzzle input). Each game is listed with its ID number (like the 11 in Game 11: ...) followed by a semicolon-separated list of subsets of cubes that were revealed from the bag (like 3 red, 5 green, 4 blue).\n",
    "\n",
    "For example, the record of a few games might look like this:\n",
    "\n",
    "        Game 1: 3 blue, 4 red; 1 red, 2 green, 6 blue; 2 green\n",
    "        Game 2: 1 blue, 2 green; 3 green, 4 blue, 1 red; 1 green, 1 blue\n",
    "        Game 3: 8 green, 6 blue, 20 red; 5 blue, 4 red, 13 green; 5 green, 1 red\n",
    "        Game 4: 1 green, 3 red, 6 blue; 3 green, 6 red; 3 green, 15 blue, 14 red\n",
    "        Game 5: 6 red, 1 blue, 3 green; 2 blue, 1 red, 2 green\n",
    "        \n",
    "In game 1, three sets of cubes are revealed from the bag (and then put back again). The first set is 3 blue cubes and 4 red cubes; the second set is 1 red cube, 2 green cubes, and 6 blue cubes; the third set is only 2 green cubes.\n",
    "\n",
    "The Elf would first like to know which games would have been possible if the bag contained only 12 red cubes, 13 green cubes, and 14 blue cubes?\n",
    "\n",
    "In the example above, games 1, 2, and 5 would have been possible if the bag had been loaded with that configuration. However, game 3 would have been impossible because at one point the Elf showed you 20 red cubes at once; similarly, game 4 would also have been impossible because the Elf showed you 15 blue cubes at once. If you add up the IDs of the games that would have been possible, you get 8.\n",
    "\n",
    "Determine which games would have been possible if the bag had been loaded with only 12 red cubes, 13 green cubes, and 14 blue cubes. What is the sum of the IDs of those games?"
   ]
  },
  {
   "cell_type": "code",
   "execution_count": 8,
   "metadata": {},
   "outputs": [
    {
     "data": {
      "text/plain": [
       "['Game 1: 7 green, 14 red, 5 blue; 8 red, 4 green; 6 green, 18 red, 9 blue',\n",
       " 'Game 2: 3 blue, 15 red, 5 green; 1 blue, 14 red, 5 green; 11 red; 4 green, 1 blue, 3 red; 4 green, 1 blue; 10 red, 1 green',\n",
       " 'Game 3: 11 green, 3 red; 4 green, 15 blue; 14 blue, 2 red, 10 green; 1 red, 3 green, 10 blue',\n",
       " 'Game 4: 1 green, 6 red, 11 blue; 3 blue, 12 red; 1 green, 14 red, 8 blue; 3 blue, 7 red; 8 blue, 5 red; 7 red, 1 green',\n",
       " 'Game 5: 14 green, 3 red, 3 blue; 2 red, 1 green, 1 blue; 8 green, 3 blue, 1 red; 15 green, 8 blue, 1 red']"
      ]
     },
     "execution_count": 8,
     "metadata": {},
     "output_type": "execute_result"
    }
   ],
   "source": [
    "input = load_input('./data/input_day2.txt')\n",
    "input[:5]"
   ]
  },
  {
   "cell_type": "code",
   "execution_count": 17,
   "metadata": {},
   "outputs": [
    {
     "data": {
      "text/plain": [
       "2101"
      ]
     },
     "execution_count": 17,
     "metadata": {},
     "output_type": "execute_result"
    }
   ],
   "source": [
    "sample = [\n",
    "    \"Game 1: 3 blue, 4 red; 1 red, 2 green, 6 blue; 2 green\",\n",
    "    \"Game 2: 1 blue, 2 green; 3 green, 4 blue, 1 red; 1 green, 1 blue\",\n",
    "    \"Game 3: 8 green, 6 blue, 20 red; 5 blue, 4 red, 13 green; 5 green, 1 red\",\n",
    "    \"Game 4: 1 green, 3 red, 6 blue; 3 green, 6 red; 3 green, 15 blue, 14 red\",\n",
    "    \"Game 5: 6 red, 1 blue, 3 green; 2 blue, 1 red, 2 green\",\n",
    "]\n",
    "expected = 8\n",
    "\n",
    "def is_valid_game(game: dict[str, int]) -> bool:\n",
    "    limits = {\"red\": 12, \"blue\": 14, \"green\": 13}\n",
    "    for color, count in game.items():\n",
    "        if color == \"game_id\": continue\n",
    "        if count > limits[color]:\n",
    "            return False\n",
    "    return True\n",
    "\n",
    "def parse_game(game: str) -> dict[str, int]:\n",
    "    game = game.split(\":\")\n",
    "    game_id = int(game[0].split(\" \")[1])\n",
    "    rounds = game[1].split(\";\")\n",
    "    data = {'red': 1, 'blue': 1, 'green': 1}\n",
    "    for round in rounds:\n",
    "        cubes = round.split(\",\")\n",
    "        for cube in cubes:\n",
    "            cube = cube.strip()\n",
    "            count, color = cube.split(\" \")\n",
    "            count = int(count)\n",
    "            if count > data[color]:\n",
    "                data[color] = count\n",
    "    return {\n",
    "        'game_id': game_id,\n",
    "        'red': data['red'],\n",
    "        'blue': data['blue'],\n",
    "        'green': data['green']\n",
    "    }\n",
    "\n",
    "def day02_part1(input):\n",
    "    results = []\n",
    "    for game in input:\n",
    "        game = parse_game(game)\n",
    "        #print(game)\n",
    "        if is_valid_game(game):\n",
    "            results.append(game['game_id'])\n",
    "    return sum(results)\n",
    "\n",
    "assert day02_part1(sample) == expected\n",
    "\n",
    "day02_part1(input)"
   ]
  },
  {
   "cell_type": "markdown",
   "metadata": {},
   "source": [
    "--- Part Two ---\n",
    "\n",
    "\n",
    "The Elf says they've stopped producing snow because they aren't getting any water! He isn't sure why the water stopped; however, he can show you how to get to the water source to check it out for yourself. It's just up ahead!\n",
    "\n",
    "As you continue your walk, the Elf poses a second question: in each game you played, what is the fewest number of cubes of each color that could have been in the bag to make the game possible?\n",
    "\n",
    "Again consider the example games from earlier:\n",
    "\n",
    "        Game 1: 3 blue, 4 red; 1 red, 2 green, 6 blue; 2 green\n",
    "        Game 2: 1 blue, 2 green; 3 green, 4 blue, 1 red; 1 green, 1 blue\n",
    "        Game 3: 8 green, 6 blue, 20 red; 5 blue, 4 red, 13 green; 5 green, 1 red\n",
    "        Game 4: 1 green, 3 red, 6 blue; 3 green, 6 red; 3 green, 15 blue, 14 red\n",
    "        Game 5: 6 red, 1 blue, 3 green; 2 blue, 1 red, 2 green\n",
    "\n",
    "In game 1, the game could have been played with as few as 4 red, 2 green, and 6 blue cubes. If any color had even one fewer cube, the game would have been impossible.\n",
    "Game 2 could have been played with a minimum of 1 red, 3 green, and 4 blue cubes.\n",
    "Game 3 must have been played with at least 20 red, 13 green, and 6 blue cubes.\n",
    "Game 4 required at least 14 red, 3 green, and 15 blue cubes.\n",
    "Game 5 needed no fewer than 6 red, 3 green, and 2 blue cubes in the bag.\n",
    "The power of a set of cubes is equal to the numbers of red, green, and blue cubes multiplied together. The power of the minimum set of cubes in game 1 is 48. In games 2-5 it was 12, 1560, 630, and 36, respectively. Adding up these five powers produces the sum 2286.\n",
    "\n",
    "For each game, find the minimum set of cubes that must have been present. What is the sum of the power of these sets?"
   ]
  },
  {
   "cell_type": "code",
   "execution_count": 21,
   "metadata": {},
   "outputs": [
    {
     "data": {
      "text/plain": [
       "58269"
      ]
     },
     "execution_count": 21,
     "metadata": {},
     "output_type": "execute_result"
    }
   ],
   "source": [
    "expected = 2286\n",
    "\n",
    "def day02_part2(input):\n",
    "    results = []\n",
    "    for game in input:\n",
    "        game = parse_game(game)\n",
    "        power = game['red'] * game['blue'] * game['green']\n",
    "        results.append(power)\n",
    "    return sum(results)\n",
    "\n",
    "assert day02_part2(sample) == expected\n",
    "\n",
    "day02_part2(input)"
   ]
  },
  {
   "cell_type": "markdown",
   "metadata": {},
   "source": [
    "--- Day 3: Gear Ratios ---\n",
    "\n",
    "\n",
    "You and the Elf eventually reach a gondola lift station; he says the gondola lift will take you up to the water source, but this is as far as he can bring you. You go inside.\n",
    "\n",
    "It doesn't take long to find the gondolas, but there seems to be a problem: they're not moving.\n",
    "\n",
    "\"Aaah!\"\n",
    "\n",
    "You turn around to see a slightly-greasy Elf with a wrench and a look of surprise. \"Sorry, I wasn't expecting anyone! The gondola lift isn't working right now; it'll still be a while before I can fix it.\" You offer to help.\n",
    "\n",
    "The engineer explains that an engine part seems to be missing from the engine, but nobody can figure out which one. If you can add up all the part numbers in the engine schematic, it should be easy to work out which part is missing.\n",
    "\n",
    "The engine schematic (your puzzle input) consists of a visual representation of the engine. There are lots of numbers and symbols you don't really understand, but apparently any number adjacent to a symbol, even diagonally, is a \"part number\" and should be included in your sum. (Periods (.) do not count as a symbol.)\n",
    "\n",
    "Here is an example engine schematic:\n",
    "\n",
    "        467..114..\n",
    "        ...*......\n",
    "        ..35..633.\n",
    "        ......#...\n",
    "        617*......\n",
    "        .....+.58.\n",
    "        ..592.....\n",
    "        ......755.\n",
    "        ...$.*....\n",
    "        .664.598..\n",
    "        \n",
    "In this schematic, two numbers are not part numbers because they are not adjacent to a symbol: 114 (top right) and 58 (middle right). Every other number is adjacent to a symbol and so is a part number; their sum is 4361.\n",
    "\n",
    "Of course, the actual engine schematic is much larger. What is the sum of all of the part numbers in the engine schematic?\n",
    "\n"
   ]
  },
  {
   "cell_type": "code",
   "execution_count": 22,
   "metadata": {},
   "outputs": [
    {
     "data": {
      "text/plain": [
       "['....573.613.........965............691......892..948.......964........439.375..................320......273...........352.284...............',\n",
       " '.......*.............*.....814...............$....*........../..94......*....=.............103............/..882*...........+...............',\n",
       " '...........328....598.....*........................819...................199........60*132..@....................685..........6.........493.',\n",
       " '777....763...*.........510...614..................................439..............................216......925.......748....*....540.......',\n",
       " '...=...-....710.............../...273.....933.............%...753...=......33......@........213$.....*..408...*......*.......514....*...130.']"
      ]
     },
     "execution_count": 22,
     "metadata": {},
     "output_type": "execute_result"
    }
   ],
   "source": [
    "input = load_input('./data/input_day3.txt')\n",
    "input[:5]"
   ]
  },
  {
   "cell_type": "code",
   "execution_count": 86,
   "metadata": {},
   "outputs": [
    {
     "data": {
      "text/plain": [
       "560670"
      ]
     },
     "execution_count": 86,
     "metadata": {},
     "output_type": "execute_result"
    }
   ],
   "source": [
    "sample = [\n",
    "    \"467$.114..\",\n",
    "    \"$/!*......\",\n",
    "    \"..35..633.\",\n",
    "    \".....#....\",\n",
    "    \"617*......\",\n",
    "    \".....+.58.\",\n",
    "    \"..592.....\",\n",
    "    \".......755\",\n",
    "    \"...$..*...\",\n",
    "    \".664..598$\"\n",
    "]\n",
    "\n",
    "expected = 4361\n",
    "\n",
    "def build_schematic_grid(input: list[str]) -> list[list[str]]:\n",
    "    grid = []\n",
    "    for row in input:\n",
    "        grid.append(list(row))\n",
    "    return grid\n",
    "\n",
    "\n",
    "def padding_position(number_position: list[int], size: int) -> list[int]:\n",
    "    padding = [number_position[0] - 1] + number_position +  [number_position[-1] + 1]\n",
    "    return [i for i in padding if i >= 0 and i < size]\n",
    "\n",
    "\n",
    "def check_surrounds(grid: list[list[str]], number_position: list[int], i: int):\n",
    "    row = grid[i]\n",
    "    padding = padding_position(number_position, len(row))\n",
    "    \n",
    "    surrounds = set()\n",
    "    if i > 0:\n",
    "        top_row = grid[i-1]\n",
    "        surrounds |= set([top_row[i] for i in padding])\n",
    "    if i < len(grid)-1:\n",
    "        bottom_row = grid[i+1]\n",
    "        surrounds |= set([bottom_row[i] for i in padding])\n",
    "\n",
    "    left = [row[padding[0]]] if padding[0] != number_position[0] else []\n",
    "    right = [row[padding[-1]]] if padding[-1] != number_position[-1] else []\n",
    "    surrounds |= set(left + right)\n",
    "\n",
    "    return len(surrounds) > 1\n",
    "\n",
    "\n",
    "def day03_part1(input):\n",
    "    grid = build_schematic_grid(input)\n",
    "    results = []\n",
    "    for i, row in enumerate(grid):\n",
    "        number_position = []\n",
    "        sequence_flag = False\n",
    "        for j, cell in enumerate(row):\n",
    "            if cell.isdigit():\n",
    "                sequence_flag = True and j < len(row)-1\n",
    "                number_position.append(j)\n",
    "            else:\n",
    "                sequence_flag = False\n",
    "            \n",
    "            if not sequence_flag and len(number_position) > 0:\n",
    "                number = int(''.join(row[number_position[0]:number_position[-1]+1]))\n",
    "                is_valid_number = check_surrounds(grid, number_position, i)\n",
    "                if is_valid_number:\n",
    "                    results.append(number)\n",
    "                number_position = []\n",
    "    return sum(results)\n",
    "\n",
    "\n",
    "assert day03_part1(sample) == expected\n",
    "\n",
    "day03_part1(input)"
   ]
  },
  {
   "cell_type": "markdown",
   "metadata": {},
   "source": [
    "--- Part Two ---\n",
    "\n",
    "\n",
    "The engineer finds the missing part and installs it in the engine! As the engine springs to life, you jump in the closest gondola, finally ready to ascend to the water source.\n",
    "\n",
    "You don't seem to be going very fast, though. Maybe something is still wrong? Fortunately, the gondola has a phone labeled \"help\", so you pick it up and the engineer answers.\n",
    "\n",
    "Before you can explain the situation, she suggests that you look out the window. There stands the engineer, holding a phone in one hand and waving with the other. You're going so slowly that you haven't even left the station. You exit the gondola.\n",
    "\n",
    "The missing part wasn't the only issue - one of the gears in the engine is wrong. A gear is any * symbol that is adjacent to exactly two part numbers. Its gear ratio is the result of multiplying those two numbers together.\n",
    "\n",
    "This time, you need to find the gear ratio of every gear and add them all up so that the engineer can figure out which gear needs to be replaced.\n",
    "\n",
    "Consider the same engine schematic again:\n",
    "\n",
    "        467..114..\n",
    "        ...*......\n",
    "        ..35..633.\n",
    "        ......#...\n",
    "        617*......\n",
    "        .....+.58.\n",
    "        ..592.....\n",
    "        ......755.\n",
    "        ...$.*....\n",
    "        .664.598..\n",
    "        \n",
    "In this schematic, there are two gears. The first is in the top left; it has part numbers 467 and 35, so its gear ratio is 16345. The second gear is in the lower right; its gear ratio is 451490. (The * adjacent to 617 is not a gear because it is only adjacent to one part number.) Adding up all of the gear ratios produces 467835."
   ]
  },
  {
   "cell_type": "code",
   "execution_count": 87,
   "metadata": {},
   "outputs": [
    {
     "data": {
      "text/plain": [
       "451490"
      ]
     },
     "execution_count": 87,
     "metadata": {},
     "output_type": "execute_result"
    }
   ],
   "source": [
    "755 * 598"
   ]
  },
  {
   "cell_type": "code",
   "execution_count": 127,
   "metadata": {},
   "outputs": [
    {
     "data": {
      "text/plain": [
       "91622824"
      ]
     },
     "execution_count": 127,
     "metadata": {},
     "output_type": "execute_result"
    }
   ],
   "source": [
    "from collections import defaultdict\n",
    "\n",
    "sample = [\n",
    "    \"467..114..\",\n",
    "    \"...*......\",\n",
    "    \"..35..633.\",\n",
    "    \".....#....\",\n",
    "    \"617*......\",\n",
    "    \".....+.58.\",\n",
    "    \"..592.....\",\n",
    "    \"......755.\",\n",
    "    \"...*.*....\",\n",
    "    \".664.598..\"\n",
    "]\n",
    "\n",
    "expected = 467835\n",
    "\n",
    "def get_star_coord(grid: list[list[str]], number_position: list[int], i: int):\n",
    "    row = grid[i]\n",
    "    padding = padding_position(number_position, len(row))\n",
    "    \n",
    "    surrounds = []\n",
    "    top = []\n",
    "    bottom = []\n",
    "    if i > 0:\n",
    "        top_row = grid[i-1]\n",
    "        top = [top_row[i] for i in padding]\n",
    "    if i < len(grid)-1:\n",
    "        bottom_row = grid[i+1]\n",
    "        bottom = [bottom_row[i] for i in padding]\n",
    "\n",
    "    left = [row[padding[0]]] if padding[0] != number_position[0] else []\n",
    "    right = [row[padding[-1]]] if padding[-1] != number_position[-1] else []\n",
    "    \n",
    "    coords = []\n",
    "    if \"*\" in top:\n",
    "        t = top.index(\"*\")\n",
    "        coords.append((i-1, padding[t]))\n",
    "    if \"*\" in bottom:\n",
    "        b = bottom.index(\"*\")\n",
    "        coords.append((i+1, padding[b]))\n",
    "    if \"*\" in left:\n",
    "        coords.append((i, padding[0]))\n",
    "    if \"*\" in right:\n",
    "        coords.append((i, padding[-1]))\n",
    "    return coords\n",
    "\n",
    "\n",
    "def day03_part2(input):\n",
    "    grid = build_schematic_grid(input)\n",
    "    gears = defaultdict(list)\n",
    "    for i, row in enumerate(grid):\n",
    "        number_position = []   \n",
    "        sequence_flag = False\n",
    "        for j, cell in enumerate(row):\n",
    "            if cell.isdigit():\n",
    "                sequence_flag = True and j < len(row)-1\n",
    "                number_position.append(j)\n",
    "            else:\n",
    "                sequence_flag = False\n",
    "            \n",
    "            if not sequence_flag and len(number_position) > 0:\n",
    "                number = int(''.join(row[number_position[0]:number_position[-1]+1]))\n",
    "                coords = get_star_coord(grid, number_position, i)\n",
    "                for coord in coords:\n",
    "                    gears[coord].append(number)\n",
    "                number_position = []\n",
    "\n",
    "    results = []\n",
    "    for numbers in gears.values():\n",
    "        if len(numbers) == 2:\n",
    "            results.append(numbers[0] * numbers[1])\n",
    "    \n",
    "    return sum(results)\n",
    "\n",
    "\n",
    "assert day03_part2(sample) == expected\n",
    "\n",
    "day03_part2(input)"
   ]
  },
  {
   "cell_type": "code",
   "execution_count": null,
   "metadata": {},
   "outputs": [],
   "source": []
  },
  {
   "cell_type": "code",
   "execution_count": null,
   "metadata": {},
   "outputs": [],
   "source": []
  }
 ],
 "metadata": {
  "kernelspec": {
   "display_name": "base",
   "language": "python",
   "name": "python3"
  },
  "language_info": {
   "codemirror_mode": {
    "name": "ipython",
    "version": 3
   },
   "file_extension": ".py",
   "mimetype": "text/x-python",
   "name": "python",
   "nbconvert_exporter": "python",
   "pygments_lexer": "ipython3",
   "version": "3.10.13"
  }
 },
 "nbformat": 4,
 "nbformat_minor": 2
}
