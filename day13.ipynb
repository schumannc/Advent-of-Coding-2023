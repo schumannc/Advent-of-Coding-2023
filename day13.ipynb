{
 "cells": [
  {
   "cell_type": "code",
   "execution_count": 45,
   "metadata": {},
   "outputs": [
    {
     "data": {
      "text/plain": [
       "38063"
      ]
     },
     "execution_count": 45,
     "metadata": {},
     "output_type": "execute_result"
    }
   ],
   "source": [
    "from pprint import pprint\n",
    "\n",
    "notes = open(\"./data/input_day13.txt\").read().split(\"\\n\\n\")\n",
    "notes = [note.strip().split(\"\\n\") for note in notes]\n",
    "notes = [[list(n) for n in note] for note in notes]\n",
    "\n",
    "def find_divisor(note: list[list[str]]) -> int:\n",
    "    for i in range(1, len(note)):\n",
    "        up = note[:i][::-1]\n",
    "        bottom = note[i:]\n",
    "        up = up[:len(bottom)]\n",
    "        bottom = bottom[:len(up)]\n",
    "        diff = set()\n",
    "        for r in range(len(up)):\n",
    "            for c in range(len(up[r])):\n",
    "                if up[r][c] != bottom[r][c]:\n",
    "                    diff.add((r, c))\n",
    "        if len(diff) == 1:\n",
    "            return i\n",
    "    return 0\n",
    "\n",
    "\n",
    "total = 0\n",
    "for note in notes:\n",
    "    rows_above = find_divisor(note)\n",
    "    columns_left = find_divisor([list(l) for l in list(zip(*note))])\n",
    "    total += rows_above * 100\n",
    "    total += columns_left\n",
    "\n",
    "total"
   ]
  }
 ],
 "metadata": {
  "kernelspec": {
   "display_name": "base",
   "language": "python",
   "name": "python3"
  },
  "language_info": {
   "codemirror_mode": {
    "name": "ipython",
    "version": 3
   },
   "file_extension": ".py",
   "mimetype": "text/x-python",
   "name": "python",
   "nbconvert_exporter": "python",
   "pygments_lexer": "ipython3",
   "version": "3.10.13"
  }
 },
 "nbformat": 4,
 "nbformat_minor": 2
}
