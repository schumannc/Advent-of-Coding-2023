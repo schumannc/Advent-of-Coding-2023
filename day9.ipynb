{
 "cells": [
  {
   "cell_type": "code",
   "execution_count": 37,
   "metadata": {},
   "outputs": [],
   "source": [
    "histories = open(\"./data/input_day9.txt\").read().splitlines()\n",
    "histories = [list(map(int, x.split())) for x in histories]"
   ]
  },
  {
   "cell_type": "code",
   "execution_count": 34,
   "metadata": {},
   "outputs": [
    {
     "data": {
      "text/plain": [
       "1798691765"
      ]
     },
     "execution_count": 34,
     "metadata": {},
     "output_type": "execute_result"
    }
   ],
   "source": [
    "def day9_part1(histories:list[int]):\n",
    "    result = 0\n",
    "    for history in histories:\n",
    "        sequences = [history]\n",
    "        while set(history) != {0}:\n",
    "            reduce = [history[i + 1] - history[i] for i in range(len(history) - 1)]\n",
    "            sequences.append(reduce)\n",
    "            history = reduce\n",
    "        forecast = []\n",
    "        size = len(sequences) - 1\n",
    "        for i, sequence in enumerate(sequences[::-1]):\n",
    "            if sum(sequence) == 0:\n",
    "                forecast.append(0)\n",
    "                continue\n",
    "            forecast.append(sequences[size - i][-1] + forecast[-1])\n",
    "        result += forecast[-1]\n",
    "    return result\n",
    "\n",
    "day9_part1(histories)"
   ]
  },
  {
   "cell_type": "code",
   "execution_count": 38,
   "metadata": {},
   "outputs": [
    {
     "data": {
      "text/plain": [
       "1104"
      ]
     },
     "execution_count": 38,
     "metadata": {},
     "output_type": "execute_result"
    }
   ],
   "source": [
    "def day9_part2(histories:list[int]):\n",
    "    result = 0\n",
    "    for history in histories:\n",
    "        sequences = [history]\n",
    "        while set(history) != {0}:\n",
    "            reduce = [history[i + 1] - history[i] for i in range(len(history) - 1)]\n",
    "            sequences.append(reduce)\n",
    "            history = reduce\n",
    "        forecast = []\n",
    "        size = len(sequences) - 1\n",
    "        for i, sequence in enumerate(sequences[::-1]):\n",
    "            if sum(sequence) == 0:\n",
    "                forecast.append(0)\n",
    "                continue\n",
    "            forecast.append(sequences[size - i][0] - forecast[-1])\n",
    "        result += forecast[-1]\n",
    "    return result\n",
    "\n",
    "day9_part2(histories)"
   ]
  }
 ],
 "metadata": {
  "kernelspec": {
   "display_name": "base",
   "language": "python",
   "name": "python3"
  },
  "language_info": {
   "codemirror_mode": {
    "name": "ipython",
    "version": 3
   },
   "file_extension": ".py",
   "mimetype": "text/x-python",
   "name": "python",
   "nbconvert_exporter": "python",
   "pygments_lexer": "ipython3",
   "version": "3.10.13"
  }
 },
 "nbformat": 4,
 "nbformat_minor": 2
}
