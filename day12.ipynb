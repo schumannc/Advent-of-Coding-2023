{
 "cells": [
  {
   "cell_type": "code",
   "execution_count": 5,
   "metadata": {},
   "outputs": [],
   "source": [
    "inputs = open(\"./data/input_day12.txt\").read().splitlines()"
   ]
  },
  {
   "cell_type": "code",
   "execution_count": 23,
   "metadata": {},
   "outputs": [
    {
     "data": {
      "text/plain": [
       "10"
      ]
     },
     "execution_count": 23,
     "metadata": {},
     "output_type": "execute_result"
    }
   ],
   "source": [
    "def count_possibilities(springs, groups):\n",
    "    if springs == \"\":\n",
    "        return 1 if groups == () else 0\n",
    "    if groups == ():\n",
    "        return 0 if \"#\" in springs else 1\n",
    "    \n",
    "    result = 0\n",
    "\n",
    "    if springs[0] in \".?\":\n",
    "        result += count_possibilities(springs[1:], groups)\n",
    "\n",
    "    if springs[0] in \"#?\":\n",
    "        if groups[0] <= len(springs) and \".\" not in springs[:groups[0]] and (groups[0] == len(springs) or springs[groups[0]] != \"#\"):\n",
    "            result += count_possibilities(springs[groups[0] + 1:], groups[1:])\n",
    "    \n",
    "    return result\n",
    "\n",
    "count_possibilities(\"?###????????\", (3,2,1))"
   ]
  },
  {
   "cell_type": "markdown",
   "metadata": {},
   "source": []
  },
  {
   "cell_type": "code",
   "execution_count": 24,
   "metadata": {},
   "outputs": [
    {
     "data": {
      "text/plain": [
       "7025"
      ]
     },
     "execution_count": 24,
     "metadata": {},
     "output_type": "execute_result"
    }
   ],
   "source": [
    "def day12_part1(inputs):\n",
    "    total = 0\n",
    "    for input in inputs:\n",
    "        springs, groups = input.split()\n",
    "        groups = tuple(map(int, groups.split(\",\")))\n",
    "        total += count_possibilities(springs, groups)\n",
    "\n",
    "    return total\n",
    "\n",
    "day12_part1(inputs)"
   ]
  },
  {
   "cell_type": "code",
   "execution_count": 27,
   "metadata": {},
   "outputs": [
    {
     "data": {
      "text/plain": [
       "(10,\n",
       " {('?', (2, 1)): 0,\n",
       "  ('??', (2, 1)): 0,\n",
       "  ('???', (2, 1)): 0,\n",
       "  ('?', (1,)): 1,\n",
       "  ('????', (2, 1)): 1,\n",
       "  ('??', (1,)): 2,\n",
       "  ('?????', (2, 1)): 3,\n",
       "  ('???', (1,)): 3,\n",
       "  ('??????', (2, 1)): 6,\n",
       "  ('????', (1,)): 4,\n",
       "  ('???????', (2, 1)): 10,\n",
       "  ('###????????', (3, 2, 1)): 10,\n",
       "  ('?###????????', (3, 2, 1)): 10})"
      ]
     },
     "execution_count": 27,
     "metadata": {},
     "output_type": "execute_result"
    }
   ],
   "source": [
    "cache = {}\n",
    "\n",
    "def count_possibilities(springs, groups):\n",
    "    if springs == \"\":\n",
    "        return 1 if groups == () else 0\n",
    "    if groups == ():\n",
    "        return 0 if \"#\" in springs else 1\n",
    "    \n",
    "    key = (springs, groups)\n",
    "    \n",
    "    if key in cache:\n",
    "        return cache[key]\n",
    "    \n",
    "    result = 0\n",
    "\n",
    "    if springs[0] in \".?\":\n",
    "        result += count_possibilities(springs[1:], groups)\n",
    "\n",
    "    if springs[0] in \"#?\":\n",
    "        if groups[0] <= len(springs) and \".\" not in springs[:groups[0]] and (groups[0] == len(springs) or springs[groups[0]] != \"#\"):\n",
    "            result += count_possibilities(springs[groups[0] + 1:], groups[1:])\n",
    "    \n",
    "    cache[key] = result\n",
    "    return result\n",
    "\n",
    "count_possibilities(\"?###????????\", (3,2,1)), cache"
   ]
  },
  {
   "cell_type": "code",
   "execution_count": 28,
   "metadata": {},
   "outputs": [
    {
     "data": {
      "text/plain": [
       "11461095383315"
      ]
     },
     "execution_count": 28,
     "metadata": {},
     "output_type": "execute_result"
    }
   ],
   "source": [
    "def day12_part2(inputs):\n",
    "    total = 0\n",
    "    for input in inputs:\n",
    "        springs, groups = input.split()\n",
    "        groups = tuple(map(int, groups.split(\",\")))\n",
    "\n",
    "        springs = \"?\".join([springs]*5)\n",
    "        groups *= 5\n",
    "\n",
    "        total += count_possibilities(springs, groups)\n",
    "\n",
    "    return total\n",
    "\n",
    "day12_part2(inputs)"
   ]
  },
  {
   "cell_type": "code",
   "execution_count": null,
   "metadata": {},
   "outputs": [],
   "source": []
  }
 ],
 "metadata": {
  "kernelspec": {
   "display_name": "base",
   "language": "python",
   "name": "python3"
  },
  "language_info": {
   "codemirror_mode": {
    "name": "ipython",
    "version": 3
   },
   "file_extension": ".py",
   "mimetype": "text/x-python",
   "name": "python",
   "nbconvert_exporter": "python",
   "pygments_lexer": "ipython3",
   "version": "3.10.13"
  }
 },
 "nbformat": 4,
 "nbformat_minor": 2
}
