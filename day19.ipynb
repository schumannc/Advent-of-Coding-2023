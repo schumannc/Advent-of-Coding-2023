{
 "cells": [
  {
   "cell_type": "code",
   "execution_count": 117,
   "metadata": {},
   "outputs": [
    {
     "data": {
      "text/plain": [
       "(['px{a<2006:qkq,m>2090:A,rfg}',\n",
       "  'pv{a>1716:R,A}',\n",
       "  'lnx{m>1548:A,A}',\n",
       "  'rfg{s<537:gd,x>2440:R,A}',\n",
       "  'qs{s>3448:A,lnx}',\n",
       "  'qkq{x<1416:A,crn}',\n",
       "  'crn{x>2662:A,R}',\n",
       "  'in{s<1351:px,qqz}',\n",
       "  'qqz{s>2770:qs,m<1801:hdj,R}',\n",
       "  'gd{a>3333:R,R}',\n",
       "  'hdj{m>838:A,pv}'],\n",
       " ['{x=787,m=2655,a=1222,s=2876}',\n",
       "  '{x=1679,m=44,a=2067,s=496}',\n",
       "  '{x=2036,m=264,a=79,s=2244}',\n",
       "  '{x=2461,m=1339,a=466,s=291}',\n",
       "  '{x=2127,m=1623,a=2188,s=1013}'])"
      ]
     },
     "execution_count": 117,
     "metadata": {},
     "output_type": "execute_result"
    }
   ],
   "source": [
    "workflows, parts = open(\"./data/sample_day19.txt\").read().split(\"\\n\\n\")\n",
    "workflows = workflows.split(\"\\n\")\n",
    "parts = parts.split(\"\\n\")\n",
    "workflows, parts"
   ]
  },
  {
   "cell_type": "code",
   "execution_count": 118,
   "metadata": {},
   "outputs": [
    {
     "name": "stdout",
     "output_type": "stream",
     "text": [
      "{'crn': [('x', {'cond': '>', 'next': 'A', 'value': 2662}),\n",
      "         ('default', {'next': 'R'})],\n",
      " 'gd': [('a', {'cond': '>', 'next': 'R', 'value': 3333}),\n",
      "        ('default', {'next': 'R'})],\n",
      " 'hdj': [('m', {'cond': '>', 'next': 'A', 'value': 838}),\n",
      "         ('default', {'next': 'pv'})],\n",
      " 'in': [('s', {'cond': '<', 'next': 'px', 'value': 1351}),\n",
      "        ('default', {'next': 'qqz'})],\n",
      " 'lnx': [('m', {'cond': '>', 'next': 'A', 'value': 1548}),\n",
      "         ('default', {'next': 'A'})],\n",
      " 'pv': [('a', {'cond': '>', 'next': 'R', 'value': 1716}),\n",
      "        ('default', {'next': 'A'})],\n",
      " 'px': [('a', {'cond': '<', 'next': 'qkq', 'value': 2006}),\n",
      "        ('m', {'cond': '>', 'next': 'A', 'value': 2090}),\n",
      "        ('default', {'next': 'rfg'})],\n",
      " 'qkq': [('x', {'cond': '<', 'next': 'A', 'value': 1416}),\n",
      "         ('default', {'next': 'crn'})],\n",
      " 'qqz': [('s', {'cond': '>', 'next': 'qs', 'value': 2770}),\n",
      "         ('m', {'cond': '<', 'next': 'hdj', 'value': 1801}),\n",
      "         ('default', {'next': 'R'})],\n",
      " 'qs': [('s', {'cond': '>', 'next': 'A', 'value': 3448}),\n",
      "        ('default', {'next': 'lnx'})],\n",
      " 'rfg': [('s', {'cond': '<', 'next': 'gd', 'value': 537}),\n",
      "         ('x', {'cond': '>', 'next': 'R', 'value': 2440}),\n",
      "         ('default', {'next': 'A'})]}\n"
     ]
    }
   ],
   "source": [
    "import re\n",
    "from pprint import pprint\n",
    "\n",
    "parsed = {}\n",
    "for workflow in workflows:\n",
    "    rule = f\"[xmas][<>]\\d+:\\w+,?\"\n",
    "    w = re.match(r\"\"\"(?P<id>\\w+)\n",
    "                    \\{(?P<r1>[xmas][<>]\\d+:\\w+,?)\n",
    "                    (?P<r2>[xmas][<>]\\d+:\\w+,?)?\n",
    "                    (?P<r3>[xmas][<>]\\d+:\\w+,?)?\n",
    "                    (?P<r4>[xmas][<>]\\d+:\\w+,?)?\n",
    "                    (?P<default>\\w+)\\}\"\"\", workflow, flags=re.VERBOSE)\n",
    "    w = w.groupdict()\n",
    "    parsed[w[\"id\"]] = []\n",
    "    for k, v in w.items():\n",
    "        if k.startswith(\"r\") and v is not None:\n",
    "            rule = re.match(r\"(?P<part>[xmas])(?P<cond>[<>])(?P<value>\\d+):(?P<next>\\w+),?\", v).groupdict()\n",
    "            pt = rule[\"part\"]\n",
    "            \n",
    "            parsed[w[\"id\"]].append((pt, {\"cond\": rule[\"cond\"], \"value\": int(rule[\"value\"]), \"next\": rule[\"next\"]}))\n",
    "    parsed[w[\"id\"]].append((\"default\", {\"next\": w[\"default\"]}))\n",
    "pprint(parsed)\n",
    "            \n"
   ]
  },
  {
   "cell_type": "code",
   "execution_count": 119,
   "metadata": {},
   "outputs": [
    {
     "data": {
      "text/plain": [
       "[['x=787', 'm=2655', 'a=1222', 's=2876'],\n",
       " ['x=1679', 'm=44', 'a=2067', 's=496']]"
      ]
     },
     "execution_count": 119,
     "metadata": {},
     "output_type": "execute_result"
    }
   ],
   "source": [
    "parts = [p[1:-1].split(\",\") for p in parts]\n",
    "parts[:2]"
   ]
  },
  {
   "cell_type": "code",
   "execution_count": 120,
   "metadata": {},
   "outputs": [
    {
     "data": {
      "text/plain": [
       "[{'x': 787, 'm': 2655, 'a': 1222, 's': 2876},\n",
       " {'x': 1679, 'm': 44, 'a': 2067, 's': 496}]"
      ]
     },
     "execution_count": 120,
     "metadata": {},
     "output_type": "execute_result"
    }
   ],
   "source": [
    "parts = [dict([(c.split(\"=\")[0], int(c.split(\"=\")[1])) for c in p]) for p in parts]\n",
    "parts[:2]"
   ]
  },
  {
   "cell_type": "code",
   "execution_count": 121,
   "metadata": {},
   "outputs": [
    {
     "data": {
      "text/plain": [
       "'px'"
      ]
     },
     "execution_count": 121,
     "metadata": {},
     "output_type": "execute_result"
    }
   ],
   "source": [
    "import operator\n",
    "\n",
    "op = {\">\": operator.gt, \"<\": operator.lt}\n",
    "\n",
    "\n",
    "def run_workflow(wf, part):\n",
    "    nwf = None\n",
    "    rule = parsed[wf]\n",
    "    for c, r in rule:\n",
    "        if c == \"default\":\n",
    "            nwf = r[\"next\"]\n",
    "            break\n",
    "        if op[r[\"cond\"]](part[c], r[\"value\"]):\n",
    "            nwf = r[\"next\"]\n",
    "            break\n",
    "    return nwf\n",
    "\n",
    "run_workflow('in', {'x': 903, 'm': 143, 'a': 1348, 's': 25})"
   ]
  },
  {
   "cell_type": "code",
   "execution_count": 122,
   "metadata": {},
   "outputs": [
    {
     "name": "stdout",
     "output_type": "stream",
     "text": [
      "in -> qqz -> qs -> lnx -> A\n",
      "in -> px -> rfg -> gd -> R\n",
      "in -> qqz -> hdj -> pv -> A\n",
      "in -> px -> qkq -> crn -> R\n",
      "in -> px -> rfg -> A\n"
     ]
    },
    {
     "data": {
      "text/plain": [
       "19114"
      ]
     },
     "execution_count": 122,
     "metadata": {},
     "output_type": "execute_result"
    }
   ],
   "source": [
    "total = 0\n",
    "accepted = []\n",
    "rejected = []\n",
    "for part in parts:\n",
    "    wp = \"in\"\n",
    "    while wp not in \"RA\":\n",
    "        print(wp, \"->\", end=\" \")\n",
    "        wp = run_workflow(wp, part)\n",
    "    print(wp)\n",
    "    if wp == \"A\":\n",
    "        accepted.append(part)\n",
    "        total += sum(part.values())\n",
    "    else:\n",
    "        rejected.append(part)\n",
    "\n",
    "total"
   ]
  }
 ],
 "metadata": {
  "kernelspec": {
   "display_name": "base",
   "language": "python",
   "name": "python3"
  },
  "language_info": {
   "codemirror_mode": {
    "name": "ipython",
    "version": 3
   },
   "file_extension": ".py",
   "mimetype": "text/x-python",
   "name": "python",
   "nbconvert_exporter": "python",
   "pygments_lexer": "ipython3",
   "version": "3.10.13"
  }
 },
 "nbformat": 4,
 "nbformat_minor": 2
}
