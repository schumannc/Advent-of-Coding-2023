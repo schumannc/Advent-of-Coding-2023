{
 "cells": [
  {
   "cell_type": "markdown",
   "metadata": {},
   "source": [
    "![](./images/day10.png)"
   ]
  },
  {
   "cell_type": "code",
   "execution_count": 208,
   "metadata": {},
   "outputs": [
    {
     "data": {
      "text/plain": [
       "['|', '-', 'F', '7', '|']"
      ]
     },
     "execution_count": 208,
     "metadata": {},
     "output_type": "execute_result"
    }
   ],
   "source": [
    "tiles = open('./data/input_day10.txt').read().splitlines()\n",
    "grid = [list(l) for l in tiles]\n",
    "grid[0][:5]"
   ]
  },
  {
   "cell_type": "code",
   "execution_count": 209,
   "metadata": {},
   "outputs": [
    {
     "name": "stdout",
     "output_type": "stream",
     "text": [
      "0\n",
      "start: (86, 90)\n",
      "1\n",
      "start: (86, 88)\n",
      "2\n",
      "start: (87, 89)\n",
      "2\n",
      "start: (85, 89)\n"
     ]
    },
    {
     "data": {
      "text/plain": [
       "7012"
      ]
     },
     "execution_count": 209,
     "metadata": {},
     "output_type": "execute_result"
    }
   ],
   "source": [
    "\n",
    "def find_start(grid: list[list[str]]) -> tuple[int, int]:\n",
    "    for i, row in enumerate(grid):\n",
    "        for j, col in enumerate(row):\n",
    "            if col == 'S':\n",
    "                return (i, j)\n",
    "            \n",
    "\n",
    "def follow_path(start_coords: tuple[int, int], next_coords: tuple[int, int], grid: list[list[str]]) -> list[tuple[int, int]]:\n",
    "    path = []\n",
    "    while True:\n",
    "        row, col = next_coords\n",
    "        direction = tuple([n - s for n,s in zip(next_coords, start_coords)])\n",
    "        pipe = grid[row][col]\n",
    "        if pipe == \"|\" and direction in ((1, 0), (-1, 0)):\n",
    "            path.append(next_coords)\n",
    "        elif pipe == \"-\" and direction in ((0, 1), (0, -1)):\n",
    "            path.append(next_coords)\n",
    "        elif pipe == \"L\" and direction in ((1, 0), (0, -1)):\n",
    "            path.append(next_coords)\n",
    "            direction = (0, 1) if direction == (1, 0) else (-1, 0)\n",
    "        elif pipe == \"J\" and direction in ((1, 0), (0, 1)):\n",
    "            path.append(next_coords)\n",
    "            direction = (0, -1) if direction == (1, 0) else (-1, 0)\n",
    "        elif pipe == \"7\" and direction in ((0, 1), (-1, 0)):\n",
    "            path.append(next_coords)\n",
    "            direction = (1, 0) if direction == (0, 1) else (0, -1)\n",
    "        elif pipe == \"F\" and direction in ((0, -1), (-1, 0)):\n",
    "            path.append(next_coords)\n",
    "            direction = (1, 0) if direction == (0, -1) else (0, 1)\n",
    "        elif pipe == \"S\":\n",
    "            path.append(next_coords)\n",
    "            return path\n",
    "        else:\n",
    "            break\n",
    "        \n",
    "        start_coords = next_coords\n",
    "        next_coords = (row + direction[0], col + direction[1])\n",
    "        if any([n < 0 for n in next_coords]):\n",
    "            break\n",
    "    return []\n",
    "            \n",
    "\n",
    "def day10_part1(grid: list[list[str]]) -> int:\n",
    "    start_coords = find_start(grid)\n",
    "    paths = []\n",
    "    for ra, ca in ((0, 1), (0, -1), (1, 0), (-1, 0)):\n",
    "        next_coords = (start_coords[0] + ra, start_coords[1] + ca)\n",
    "        print(len(paths))\n",
    "        print(\"start:\", next_coords)\n",
    "        if any([n < 0 for n in next_coords]):\n",
    "            continue\n",
    "        path = follow_path(start_coords, next_coords, grid)\n",
    "        if len(path) > 0:\n",
    "            paths.append(path)\n",
    "    middles = []\n",
    "    for path in paths:\n",
    "        size = len(path)\n",
    "        middles.append(size // 2)\n",
    "    return max(middles)\n",
    "\n",
    "\n",
    "day10_part1(grid)"
   ]
  },
  {
   "cell_type": "markdown",
   "metadata": {},
   "source": [
    "## Part 2"
   ]
  },
  {
   "cell_type": "code",
   "execution_count": 205,
   "metadata": {},
   "outputs": [
    {
     "data": {
      "text/plain": [
       "['|', '-', 'F', '7', '|']"
      ]
     },
     "execution_count": 205,
     "metadata": {},
     "output_type": "execute_result"
    }
   ],
   "source": [
    "tiles = open('./data/input_day10.txt').read().splitlines()\n",
    "grid = [list(l) for l in tiles]\n",
    "grid[0][:5]"
   ]
  },
  {
   "cell_type": "code",
   "execution_count": 206,
   "metadata": {},
   "outputs": [],
   "source": [
    "def is_point_inside_path(point: tuple[int, int], path: list[tuple[int, int]]) -> bool:\n",
    "    x, y = point\n",
    "    n = len(path)\n",
    "    inside = False\n",
    "\n",
    "    for i in range(n):\n",
    "        x1, y1 = path[i]\n",
    "        x2, y2 = path[(i + 1) % n]  # Wrap around to the start of the list\n",
    "\n",
    "        if min(y1, y2) < y <= max(y1, y2) and x <= max(x1, x2):\n",
    "            if y1 != y2:\n",
    "                xinters = (y - y1) * (x2 - x1) / (y2 - y1) + x1\n",
    "            if x1 == x2 or x <= xinters:\n",
    "                inside = not inside\n",
    "\n",
    "    return inside"
   ]
  },
  {
   "cell_type": "code",
   "execution_count": 203,
   "metadata": {},
   "outputs": [
    {
     "name": "stdout",
     "output_type": "stream",
     "text": [
      "0\n",
      "start: (86, 90)\n",
      "1\n",
      "start: (86, 88)\n",
      "2\n",
      "start: (87, 89)\n",
      "3\n",
      "start: (85, 89)\n"
     ]
    },
    {
     "data": {
      "text/plain": [
       "395"
      ]
     },
     "execution_count": 203,
     "metadata": {},
     "output_type": "execute_result"
    }
   ],
   "source": [
    "def get_next_direction(pipe: str, direction: tuple[int, int]) -> tuple[int, int]:\n",
    "    if pipe == \"|\" and direction in ((1, 0), (-1, 0)):\n",
    "        return direction\n",
    "    if pipe == \"-\" and direction in ((0, 1), (0, -1)):\n",
    "        return direction\n",
    "    if pipe == \"L\" and direction in ((1, 0), (0, -1)):\n",
    "        direction = (0, 1) if direction == (1, 0) else (-1, 0)\n",
    "        return direction\n",
    "    if pipe == \"J\" and direction in ((1, 0), (0, 1)):\n",
    "        direction = (0, -1) if direction == (1, 0) else (-1, 0)\n",
    "        return direction\n",
    "    if pipe == \"7\" and direction in ((0, 1), (-1, 0)):\n",
    "        direction = (1, 0) if direction == (0, 1) else (0, -1)\n",
    "        return direction\n",
    "    if pipe == \"F\" and direction in ((0, -1), (-1, 0)):\n",
    "        direction = (1, 0) if direction == (0, -1) else (0, 1)\n",
    "        return direction\n",
    "    return direction\n",
    "    \n",
    "\n",
    "def follow_path(start_coords: tuple[int, int], next_coords: tuple[int, int], grid: list[list[str]]) -> list[tuple[int, int]]:\n",
    "    path = []\n",
    "    while True:\n",
    "        row, col = next_coords\n",
    "        direction = tuple([n - s for n,s in zip(next_coords, start_coords)])\n",
    "        pipe = grid[row][col]\n",
    "        direction = get_next_direction(pipe, direction)\n",
    "        if pipe == \"S\":\n",
    "            path.append(next_coords)\n",
    "            return path\n",
    "        if pipe in (\"|\", \"-\", \"L\", \"J\", \"7\", \"F\"):\n",
    "            path.append(next_coords)\n",
    "        else:\n",
    "            break\n",
    "        \n",
    "        start_coords = next_coords\n",
    "        next_coords = (row + direction[0], col + direction[1])\n",
    "        if any([n < 0 for n in next_coords]):\n",
    "            break\n",
    "    return []\n",
    "\n",
    "\n",
    "def find_enclosed_tiles(path: list[tuple[int, int]], grid: list[list[str]]) -> int:\n",
    "    candidates = []\n",
    "    for row in range(0, len(grid)):\n",
    "        for col in range(0, len(grid[0])):\n",
    "            inside = is_point_inside_path((row, col), path)\n",
    "            if (row, col) not in path and inside:\n",
    "                candidates.append((row, col))\n",
    "    \n",
    "    return candidates\n",
    "        \n",
    "        \n",
    "def day10_part2(grid: list[list[str]]) -> int:\n",
    "    start_coords = find_start(grid)\n",
    "    paths = []\n",
    "    for ra, ca in ((0, 1), (0, -1), (1, 0), (-1, 0)):\n",
    "        next_coords = (start_coords[0] + ra, start_coords[1] + ca)\n",
    "        print(len(paths))\n",
    "        print(\"start:\", next_coords)\n",
    "        if any([n < 0 for n in next_coords]):\n",
    "            continue\n",
    "        path = follow_path(start_coords, next_coords, grid)\n",
    "        if len(path) > 0:\n",
    "            paths.append(path)\n",
    "    tiles_enclosed = 0\n",
    "    unique_paths = []\n",
    "    for path in paths:\n",
    "        path.pop()\n",
    "        if path not in unique_paths and path[::-1] not in unique_paths:\n",
    "            unique_paths.append(path)\n",
    "\n",
    "    paths = [[start_coords] + path for path in unique_paths]\n",
    "    path = max(paths, key=lambda x: len(x))\n",
    "    \n",
    "    tiles_enclosed += len(find_enclosed_tiles(path, grid))\n",
    "    return tiles_enclosed\n",
    "\n",
    "day10_part2(grid)"
   ]
  }
 ],
 "metadata": {
  "kernelspec": {
   "display_name": "base",
   "language": "python",
   "name": "python3"
  },
  "language_info": {
   "codemirror_mode": {
    "name": "ipython",
    "version": 3
   },
   "file_extension": ".py",
   "mimetype": "text/x-python",
   "name": "python",
   "nbconvert_exporter": "python",
   "pygments_lexer": "ipython3",
   "version": "3.10.13"
  }
 },
 "nbformat": 4,
 "nbformat_minor": 2
}
