{
 "cells": [
  {
   "cell_type": "markdown",
   "metadata": {},
   "source": [
    "# Day 5"
   ]
  },
  {
   "cell_type": "markdown",
   "metadata": {},
   "source": [
    "## Part 1"
   ]
  },
  {
   "cell_type": "code",
   "execution_count": 13,
   "metadata": {},
   "outputs": [
    {
     "data": {
      "text/plain": [
       "['seeds: 763445965 78570222 1693788857 146680070 1157620425 535920936 3187993807 180072493 1047354752 20193861 2130924847 274042257 20816377 596708258 950268560 11451287 3503767450 182465951 3760349291 265669041',\n",
       " '',\n",
       " 'seed-to-soil map:',\n",
       " '0 1894195346 315486903',\n",
       " '1184603419 2977305241 40929361']"
      ]
     },
     "execution_count": 13,
     "metadata": {},
     "output_type": "execute_result"
    }
   ],
   "source": [
    "input = open('./data/input_day5.txt').read().splitlines()\n",
    "input[:5]"
   ]
  },
  {
   "cell_type": "code",
   "execution_count": 14,
   "metadata": {},
   "outputs": [
    {
     "data": {
      "text/plain": [
       "['seeds: 79 14 55 13', '', 'seed-to-soil map:', '50 98 2', '52 50 48']"
      ]
     },
     "execution_count": 14,
     "metadata": {},
     "output_type": "execute_result"
    }
   ],
   "source": [
    "sample = open('./data/sample_day5.txt').read().splitlines()\n",
    "sample[:5]"
   ]
  },
  {
   "cell_type": "code",
   "execution_count": 15,
   "metadata": {},
   "outputs": [
    {
     "data": {
      "text/plain": [
       "265018614"
      ]
     },
     "execution_count": 15,
     "metadata": {},
     "output_type": "execute_result"
    }
   ],
   "source": [
    "import re\n",
    "from collections import defaultdict\n",
    "from functools import partial\n",
    "\n",
    "def parse_seeds(seed: str) -> list[int]:\n",
    "    return [int(i) for i in re.findall(r'\\d+', seed)]\n",
    "\n",
    "\n",
    "def parse_ranges(line: str) -> dict[int, int]:\n",
    "    destination, source, range_ = map(int, line.split(\" \"))\n",
    "    return partial(range_function, source=source, destination=destination, range_=range_)\n",
    "\n",
    "\n",
    "def range_function(input: int, source: int, destination:int, range_:int) -> int:\n",
    "    if input >= source and input < (source + range_):\n",
    "        return destination + input - source\n",
    "    return input\n",
    "\n",
    "\n",
    "def parse_maps(maps: list[str]) -> dict[str, dict[int, int]]:\n",
    "    almanac = defaultdict(list)\n",
    "    map_key = None\n",
    "    for line in maps:\n",
    "        if 'map' in line:\n",
    "            map_key = line.replace(\"map:\", \"\").strip()\n",
    "        elif line != \"\":\n",
    "            almanac[map_key].append(parse_ranges(line))\n",
    "    return almanac\n",
    "\n",
    "\n",
    "def curry(input: int, functions: list[partial]) -> int:\n",
    "    for function in functions:\n",
    "        output = function(input)\n",
    "        if input != output:\n",
    "            return output\n",
    "    return input\n",
    "\n",
    "\n",
    "def day05_part1(input):\n",
    "    seeds = parse_seeds(input[0])\n",
    "    almanac = parse_maps(input[2:])\n",
    "    locations = []\n",
    "    for seed in seeds:\n",
    "        soil = curry(seed, almanac[\"seed-to-soil\"])\n",
    "        fertilizer = curry(soil, almanac[\"soil-to-fertilizer\"])\n",
    "        water = curry(fertilizer, almanac[\"fertilizer-to-water\"])\n",
    "        light = curry(water, almanac[\"water-to-light\"])\n",
    "        temperature = curry(light, almanac[\"light-to-temperature\"])\n",
    "        humidity = curry(temperature, almanac[\"temperature-to-humidity\"])\n",
    "        location = curry(humidity, almanac[\"humidity-to-location\"])\n",
    "        locations.append(location)\n",
    "    return min(locations)\n",
    "\n",
    "\n",
    "assert day05_part1(sample) == 35, day05_part1(sample)\n",
    "\n",
    "day05_part1(input)"
   ]
  },
  {
   "cell_type": "markdown",
   "metadata": {},
   "source": [
    "## Part 2"
   ]
  },
  {
   "cell_type": "code",
   "execution_count": 22,
   "metadata": {},
   "outputs": [
    {
     "data": {
      "text/plain": [
       "63179500"
      ]
     },
     "execution_count": 22,
     "metadata": {},
     "output_type": "execute_result"
    }
   ],
   "source": [
    "\n",
    "def parse_seeds(seed: str) -> list[int]:\n",
    "    return [int(i) for i in re.findall(r'\\d+', seed)]\n",
    "\n",
    "\n",
    "def range_function(input: tuple[int, int], seeds: list[tuple[int, int]], destination:int, source: int, source_range:int) -> int:\n",
    "    seed, seed_range = input\n",
    "    max_tail = max(source, seed)\n",
    "    min_head = min(source + source_range, seed + seed_range)\n",
    "    if max_tail < min_head:\n",
    "        if max_tail > seed:\n",
    "            seeds.append((seed, max_tail - seed))\n",
    "        if (seed + seed_range) > min_head:\n",
    "            seeds.append((min_head, seed + seed_range - min_head))\n",
    "        return destination + max_tail - source, min_head - max_tail\n",
    "    return input\n",
    "\n",
    "\n",
    "def parse_ranges(line: str) -> dict[int, int]:\n",
    "    destination, source, source_range = map(int, line.split(\" \"))\n",
    "    return partial(range_function, destination=destination, source=source, source_range=source_range)\n",
    "\n",
    "\n",
    "def parse_maps(maps: list[str]) -> dict[str, dict[int, int]]:\n",
    "    almanac = defaultdict(list)\n",
    "    map_key = None\n",
    "    for line in maps:\n",
    "        if 'map' in line:\n",
    "            map_key = line.replace(\"map:\", \"\").strip()\n",
    "        elif line != \"\":\n",
    "            almanac[map_key].append(parse_ranges(line))\n",
    "    return almanac\n",
    "\n",
    "\n",
    "def curry(input: tuple[int, int], seeds: list[tuple[int, int]], functions: list[partial]) -> int:\n",
    "    for function in functions:\n",
    "        output = function(input, seeds)\n",
    "        if input != output:\n",
    "            return output\n",
    "    return input\n",
    "\n",
    "\n",
    "def day05_part2(input):\n",
    "    seeds = parse_seeds(input[0])\n",
    "    almanac = parse_maps(input[2:])\n",
    "    locations = []\n",
    "    seeds = [(seeds[i], seeds[i+1]) for i in range(0, len(seeds), 2)]\n",
    "    blocks = (\n",
    "        almanac[\"seed-to-soil\"],\n",
    "        almanac[\"soil-to-fertilizer\"],\n",
    "        almanac[\"fertilizer-to-water\"],\n",
    "        almanac[\"water-to-light\"],\n",
    "        almanac[\"light-to-temperature\"],\n",
    "        almanac[\"temperature-to-humidity\"],\n",
    "        almanac[\"humidity-to-location\"],\n",
    "    )\n",
    "    for block in blocks:\n",
    "        new = []\n",
    "        while len(seeds) > 0:\n",
    "            seed = seeds.pop(0)\n",
    "            new.append(curry(seed, seeds, block))\n",
    "        seeds = new\n",
    "            \n",
    "    #return locations\n",
    "    return min(seeds)[0]\n",
    "\n",
    "\n",
    "assert day05_part2(sample) == 46, day05_part2(sample)\n",
    "\n",
    "day05_part2(input)"
   ]
  },
  {
   "cell_type": "markdown",
   "metadata": {},
   "source": [
    "# Day 6"
   ]
  },
  {
   "cell_type": "markdown",
   "metadata": {},
   "source": [
    "## Part 1"
   ]
  },
  {
   "cell_type": "code",
   "execution_count": null,
   "metadata": {},
   "outputs": [
    {
     "data": {
      "text/plain": [
       "449550"
      ]
     },
     "execution_count": 19,
     "metadata": {},
     "output_type": "execute_result"
    }
   ],
   "source": [
    "times, distances = open('data/input_day6.txt').read().splitlines()\n",
    "times = list(map(int, times.split(\":\")[1].split()))\n",
    "distances = list(map(int, distances.split(\":\")[1].split()))\n",
    "\n",
    "def day06_part1(input: list[tuple[int, int]]) -> int:\n",
    "    winners = 1\n",
    "    for time, distance in input:\n",
    "        #print(time, distance)\n",
    "        reaches = [s * (time - s) for s in range(time + 1)]\n",
    "        #print(reaches)\n",
    "        winners *= len([r for r in reaches if r > distance])\n",
    "    return winners\n",
    "\n",
    "day06_part1(zip(times, distances))"
   ]
  },
  {
   "cell_type": "code",
   "execution_count": null,
   "metadata": {},
   "outputs": [
    {
     "name": "stdout",
     "output_type": "stream",
     "text": [
      "7413271\n",
      "9234170\n",
      "37594309\n"
     ]
    },
    {
     "data": {
      "text/plain": [
       "28360140"
      ]
     },
     "execution_count": 42,
     "metadata": {},
     "output_type": "execute_result"
    }
   ],
   "source": [
    "time, distance = open('data/input_day6.txt').read().splitlines()\n",
    "time = int(time.split(\":\")[1].replace(\" \", \"\"))\n",
    "distance = int(distance.split(\":\")[1].replace(\" \", \"\"))\n",
    "\n",
    "def day06_part1(input: tuple[int, int]) -> int:\n",
    "    time, distance = input\n",
    "    current_speed = distance // time\n",
    "    print(current_speed)\n",
    "    for t in range(current_speed, distance, 1):\n",
    "        if t * (time - t) > distance: \n",
    "            min_speed_to_win = t\n",
    "            break\n",
    "    print(min_speed_to_win)\n",
    "    for t in range(time, -1, -1):\n",
    "        if t * (time - t) > distance: \n",
    "            max_speed_to_win = t\n",
    "            break\n",
    "    print(max_speed_to_win)\n",
    "    winners = max_speed_to_win - min_speed_to_win + 1\n",
    "    return winners\n",
    "\n",
    "day06_part1((time, distance))"
   ]
  },
  {
   "cell_type": "markdown",
   "metadata": {},
   "source": [
    "# Day 7"
   ]
  },
  {
   "cell_type": "markdown",
   "metadata": {},
   "source": [
    "# Part 1"
   ]
  },
  {
   "cell_type": "code",
   "execution_count": null,
   "metadata": {},
   "outputs": [],
   "source": [
    "data = open('data/input_day7.txt').read().splitlines()\n",
    "data = [line.split(\" \") for line in data]\n",
    "hands, bids = zip(*data)\n",
    "bids = list(map(int, bids))"
   ]
  },
  {
   "cell_type": "code",
   "execution_count": null,
   "metadata": {},
   "outputs": [
    {
     "data": {
      "text/plain": [
       "250382098"
      ]
     },
     "execution_count": 20,
     "metadata": {},
     "output_type": "execute_result"
    }
   ],
   "source": [
    "from collections import defaultdict\n",
    "\n",
    "def joker_card(hand: str) -> str:\n",
    "    if \"J\" not in hand: \n",
    "        return hand\n",
    "    count_cards = {c: 0 for c in set(hand)}\n",
    "    for card in hand:\n",
    "        count_cards[card] += 1\n",
    "    js = count_cards[\"J\"]\n",
    "    del count_cards[\"J\"]\n",
    "    if js == 5:\n",
    "        return hand \n",
    "    if js < 3:\n",
    "        return hand.replace(\"J\", max(count_cards, key=count_cards.get))\n",
    "    return hand.replace(\"J\", min(count_cards, key=count_cards.get))\n",
    "\n",
    "\n",
    "def rank_type(hand: str) -> int:\n",
    "    hand = joker_card(hand)\n",
    "    cards = set(hand)\n",
    "    if len(cards) == 1:\n",
    "        return 6\n",
    "    if len(cards) == 5:\n",
    "        return 0\n",
    "    \n",
    "    count_cards = {c: 0 for c in cards}\n",
    "    for card in hand:\n",
    "        count_cards[card] += 1\n",
    "    \n",
    "    count = set(count_cards.values())\n",
    "   \n",
    "    if count == set([4, 1]):      \n",
    "        return 5\n",
    "    if count == set([3, 2]):\n",
    "        return 4\n",
    "    if count == set([3, 1]):\n",
    "        return 3\n",
    "    if count == set([2, 1]) and len(cards) == 3:\n",
    "        return 2\n",
    "    return 1\n",
    "\n",
    "\n",
    "def card_label(card: str, bid: int) -> int:\n",
    "    l = 'J23456789TQKA'\n",
    "    return [l.index(c) for c in card] + [card, bid]\n",
    "\n",
    "\n",
    "def day07_part1(hands: list[str], bids: list[int]) -> str:\n",
    "    winners = 0\n",
    "    types = []\n",
    "    for h, b in zip(hands, bids):\n",
    "        types.append((rank_type(h), *card_label(h, b)))\n",
    "    \n",
    "    sorted_types = sorted(types)\n",
    "    \n",
    "    for i, *card in enumerate(sorted_types):\n",
    "        winners += (i + 1) * card[0][-1]\n",
    "    \n",
    "    return winners\n",
    "\n",
    "\n",
    "day07_part1(hands, bids)"
   ]
  },
  {
   "cell_type": "markdown",
   "metadata": {},
   "source": [
    "# Day 8"
   ]
  },
  {
   "cell_type": "markdown",
   "metadata": {},
   "source": [
    "## Parte 1"
   ]
  },
  {
   "cell_type": "code",
   "execution_count": 1,
   "metadata": {},
   "outputs": [
    {
     "data": {
      "text/plain": [
       "'LR'"
      ]
     },
     "execution_count": 1,
     "metadata": {},
     "output_type": "execute_result"
    }
   ],
   "source": [
    "import re\n",
    "\n",
    "instructions, maps = open('./data/sample_day8.txt').read().split(\"\\n\\n\")\n",
    "maps = maps.splitlines()\n",
    "maps = [re.findall(r\"[A-Z0-9]+\", line) for line in maps]\n",
    "maps = {it[0]: (it[1], it[2]) for it in maps}\n",
    "instructions"
   ]
  },
  {
   "cell_type": "code",
   "execution_count": 34,
   "metadata": {},
   "outputs": [
    {
     "data": {
      "text/plain": [
       "15871"
      ]
     },
     "execution_count": 34,
     "metadata": {},
     "output_type": "execute_result"
    }
   ],
   "source": [
    "def day08_part1(instructions: str, maps: list[list[str]]) -> str:\n",
    "    size = len(instructions)\n",
    "    i = 0\n",
    "    c = 0\n",
    "    lookup = 'AAA'\n",
    "    while True:\n",
    "        instruction = instructions[i]\n",
    "        coord = maps[lookup]\n",
    "        lookup = coord[1] if instruction == 'R' else coord[0]\n",
    "        c += 1\n",
    "        if lookup == 'ZZZ':\n",
    "            break \n",
    "        i += 1\n",
    "        if i > size - 1:\n",
    "            i = 0\n",
    "        \n",
    "    return c\n",
    "\n",
    "day08_part1(instructions, maps)"
   ]
  },
  {
   "cell_type": "markdown",
   "metadata": {},
   "source": [
    "## Part 2"
   ]
  },
  {
   "cell_type": "code",
   "execution_count": 6,
   "metadata": {},
   "outputs": [
    {
     "data": {
      "text/plain": [
       "'LLLLLLLRRRLRRRLRLRLRLRRLLRRRLRLLRRRLLRRLRRLRRLRLRRLRLRRRLRRLRLRRRLRRLRRLRLRRLLRLLRLRRRLRRLRLLLLRRLLLLRLRLRLRRRLRLRLLLRLRRRLRRRLRRRLRLRRLRRRLRLLLRLLRRLRRRLRRLRRLRRLRLRRRLRLRLRLLRRRLRRRLRRLRRRLLLRRLRRLRRRLRLRRRLRRRLRLRRLRRRLRLRRLRLRRLRRRLRLRRLRLLRRRLLRLRRLRRRLLLRLRRLRRRR'"
      ]
     },
     "execution_count": 6,
     "metadata": {},
     "output_type": "execute_result"
    }
   ],
   "source": [
    "import re\n",
    "\n",
    "instructions, maps = open('./data/input_day8.txt').read().split(\"\\n\\n\")\n",
    "maps = maps.splitlines()\n",
    "maps = [re.findall(r\"[A-Z0-9]+\", line) for line in maps]\n",
    "maps = {it[0]: (it[1], it[2]) for it in maps}\n",
    "instructions"
   ]
  },
  {
   "cell_type": "code",
   "execution_count": 64,
   "metadata": {},
   "outputs": [
    {
     "data": {
      "text/plain": [
       "11283670395017"
      ]
     },
     "execution_count": 64,
     "metadata": {},
     "output_type": "execute_result"
    }
   ],
   "source": [
    "def mdc(a: int, b: int) -> int:\n",
    "    while b != 0:\n",
    "        a, b = b, a % b\n",
    "    return a\n",
    "\n",
    "def mmc(a: int, b: int) -> int:\n",
    "    return a * b // mdc(a, b)\n",
    "\n",
    "def mmc_lista(numeros: list[int]) -> int:\n",
    "    resultado = numeros[0]\n",
    "    for numero in numeros[1:]:\n",
    "        resultado = mmc(resultado, numero)\n",
    "    return resultado\n",
    "\n",
    "def day08_part2(instructions: str, maps: list[list[str]]) -> str:\n",
    "    size = len(instructions)\n",
    "    i = 0\n",
    "    c = 1\n",
    "    nodes = [n for n in maps if n.endswith(\"A\")]\n",
    "    cycles = {nb: 0 for nb in range(len(nodes))}\n",
    "    blacklist = []\n",
    "    while True:\n",
    "        new_nodes = []\n",
    "        instruction = instructions[i]\n",
    "        for nb, node in enumerate(nodes): \n",
    "            coord = maps[node]\n",
    "            lookup = coord[1] if instruction == 'R' else coord[0]\n",
    "            if lookup.endswith(\"Z\"):\n",
    "                if cycles[nb] == 0:\n",
    "                    cycles[nb] = c\n",
    "                elif nb not in blacklist:\n",
    "                    cycles[nb] = c - cycles[nb]\n",
    "                    blacklist.append(nb)\n",
    "            new_nodes.append(lookup)\n",
    "        c += 1\n",
    "        if all([v > 0 for v in cycles.values()]) and len(blacklist) == len(nodes):\n",
    "            break \n",
    "        i += 1\n",
    "        if i > size - 1:\n",
    "            i = 0\n",
    "        nodes = new_nodes\n",
    "\n",
    "    return mmc_lista(list(cycles.values()))\n",
    "\n",
    "day08_part2(instructions, maps)"
   ]
  }
 ],
 "metadata": {
  "kernelspec": {
   "display_name": "base",
   "language": "python",
   "name": "python3"
  },
  "language_info": {
   "codemirror_mode": {
    "name": "ipython",
    "version": 3
   },
   "file_extension": ".py",
   "mimetype": "text/x-python",
   "name": "python",
   "nbconvert_exporter": "python",
   "pygments_lexer": "ipython3",
   "version": "3.10.13"
  }
 },
 "nbformat": 4,
 "nbformat_minor": 2
}
